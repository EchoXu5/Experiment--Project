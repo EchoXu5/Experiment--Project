{
 "cells": [
  {
   "cell_type": "code",
   "execution_count": 24,
   "metadata": {
    "collapsed": true
   },
   "outputs": [],
   "source": [
    "import numpy as np\n",
    "import pandas as pd\n",
    "import scipy.stats as stats\n",
    "%matplotlib inline\n",
    "import matplotlib.pyplot as plt\n",
    "\n",
    "#load data\n",
    "file_location=\"/Users/boxiao/Documents/yunjia/bittiger/Project two/\"\n",
    "file_name=\"Python_project_experiment.csv\"\n",
    "mydata=pd.read_csv(file_location+file_name)"
   ]
  },
  {
   "cell_type": "code",
   "execution_count": 2,
   "metadata": {
    "collapsed": true
   },
   "outputs": [],
   "source": [
    "# print all the outputs in a cell\n",
    "from IPython.core.interactiveshell import InteractiveShell\n",
    "InteractiveShell.ast_node_interactivity = \"all\""
   ]
  },
  {
   "cell_type": "code",
   "execution_count": 3,
   "metadata": {},
   "outputs": [
    {
     "data": {
      "text/plain": [
       "(49166, 8)"
      ]
     },
     "execution_count": 3,
     "metadata": {},
     "output_type": "execute_result"
    }
   ],
   "source": [
    "mydata.shape"
   ]
  },
  {
   "cell_type": "code",
   "execution_count": 4,
   "metadata": {},
   "outputs": [
    {
     "name": "stdout",
     "output_type": "stream",
     "text": [
      "<class 'pandas.core.frame.DataFrame'>\n",
      "RangeIndex: 49166 entries, 0 to 49165\n",
      "Data columns (total 8 columns):\n",
      "country          12339 non-null object\n",
      "date             12351 non-null object\n",
      "experiment_id    49166 non-null int64\n",
      "order_id         49166 non-null object\n",
      "spend_usd        49166 non-null float64\n",
      "user_bucket      49166 non-null int64\n",
      "user_id          49166 non-null uint64\n",
      "vertical         12351 non-null object\n",
      "dtypes: float64(1), int64(2), object(4), uint64(1)\n",
      "memory usage: 3.0+ MB\n"
     ]
    }
   ],
   "source": [
    "mydata.info()"
   ]
  },
  {
   "cell_type": "code",
   "execution_count": 5,
   "metadata": {},
   "outputs": [
    {
     "data": {
      "text/html": [
       "<div>\n",
       "<style>\n",
       "    .dataframe thead tr:only-child th {\n",
       "        text-align: right;\n",
       "    }\n",
       "\n",
       "    .dataframe thead th {\n",
       "        text-align: left;\n",
       "    }\n",
       "\n",
       "    .dataframe tbody tr th {\n",
       "        vertical-align: top;\n",
       "    }\n",
       "</style>\n",
       "<table border=\"1\" class=\"dataframe\">\n",
       "  <thead>\n",
       "    <tr style=\"text-align: right;\">\n",
       "      <th></th>\n",
       "      <th>country</th>\n",
       "      <th>date</th>\n",
       "      <th>experiment_id</th>\n",
       "      <th>order_id</th>\n",
       "      <th>spend_usd</th>\n",
       "      <th>user_bucket</th>\n",
       "      <th>user_id</th>\n",
       "      <th>vertical</th>\n",
       "    </tr>\n",
       "  </thead>\n",
       "  <tbody>\n",
       "    <tr>\n",
       "      <th>0</th>\n",
       "      <td>NaN</td>\n",
       "      <td>NaN</td>\n",
       "      <td>12624549</td>\n",
       "      <td></td>\n",
       "      <td>0.000000</td>\n",
       "      <td>3</td>\n",
       "      <td>16554430871838092438</td>\n",
       "      <td>NaN</td>\n",
       "    </tr>\n",
       "    <tr>\n",
       "      <th>1</th>\n",
       "      <td>NaN</td>\n",
       "      <td>NaN</td>\n",
       "      <td>12624548</td>\n",
       "      <td></td>\n",
       "      <td>0.000000</td>\n",
       "      <td>14</td>\n",
       "      <td>14411542309984779713</td>\n",
       "      <td>NaN</td>\n",
       "    </tr>\n",
       "    <tr>\n",
       "      <th>2</th>\n",
       "      <td>NaN</td>\n",
       "      <td>NaN</td>\n",
       "      <td>12624549</td>\n",
       "      <td></td>\n",
       "      <td>0.000000</td>\n",
       "      <td>20</td>\n",
       "      <td>8425202140671508556</td>\n",
       "      <td>NaN</td>\n",
       "    </tr>\n",
       "    <tr>\n",
       "      <th>3</th>\n",
       "      <td>NaN</td>\n",
       "      <td>NaN</td>\n",
       "      <td>12624549</td>\n",
       "      <td></td>\n",
       "      <td>0.000000</td>\n",
       "      <td>16</td>\n",
       "      <td>11302731652742770675</td>\n",
       "      <td>NaN</td>\n",
       "    </tr>\n",
       "    <tr>\n",
       "      <th>4</th>\n",
       "      <td>NaN</td>\n",
       "      <td>NaN</td>\n",
       "      <td>12624549</td>\n",
       "      <td></td>\n",
       "      <td>0.000000</td>\n",
       "      <td>14</td>\n",
       "      <td>1399243101040681867</td>\n",
       "      <td>NaN</td>\n",
       "    </tr>\n",
       "    <tr>\n",
       "      <th>5</th>\n",
       "      <td>NaN</td>\n",
       "      <td>NaN</td>\n",
       "      <td>12624549</td>\n",
       "      <td></td>\n",
       "      <td>0.000000</td>\n",
       "      <td>3</td>\n",
       "      <td>298532566148711135</td>\n",
       "      <td>NaN</td>\n",
       "    </tr>\n",
       "    <tr>\n",
       "      <th>6</th>\n",
       "      <td>NaN</td>\n",
       "      <td>NaN</td>\n",
       "      <td>12624548</td>\n",
       "      <td></td>\n",
       "      <td>0.000000</td>\n",
       "      <td>6</td>\n",
       "      <td>7166579328573822561</td>\n",
       "      <td>NaN</td>\n",
       "    </tr>\n",
       "    <tr>\n",
       "      <th>7</th>\n",
       "      <td>NaN</td>\n",
       "      <td>NaN</td>\n",
       "      <td>12624549</td>\n",
       "      <td></td>\n",
       "      <td>0.000000</td>\n",
       "      <td>15</td>\n",
       "      <td>856361011881161765</td>\n",
       "      <td>NaN</td>\n",
       "    </tr>\n",
       "    <tr>\n",
       "      <th>8</th>\n",
       "      <td>NaN</td>\n",
       "      <td>NaN</td>\n",
       "      <td>12624548</td>\n",
       "      <td></td>\n",
       "      <td>0.000000</td>\n",
       "      <td>4</td>\n",
       "      <td>7069403635541604873</td>\n",
       "      <td>NaN</td>\n",
       "    </tr>\n",
       "    <tr>\n",
       "      <th>9</th>\n",
       "      <td>NaN</td>\n",
       "      <td>NaN</td>\n",
       "      <td>12624549</td>\n",
       "      <td></td>\n",
       "      <td>0.000000</td>\n",
       "      <td>5</td>\n",
       "      <td>10285381184010535915</td>\n",
       "      <td>NaN</td>\n",
       "    </tr>\n",
       "    <tr>\n",
       "      <th>10</th>\n",
       "      <td>NaN</td>\n",
       "      <td>NaN</td>\n",
       "      <td>12624549</td>\n",
       "      <td></td>\n",
       "      <td>0.000000</td>\n",
       "      <td>16</td>\n",
       "      <td>17545155814544701869</td>\n",
       "      <td>NaN</td>\n",
       "    </tr>\n",
       "    <tr>\n",
       "      <th>11</th>\n",
       "      <td>NaN</td>\n",
       "      <td>NaN</td>\n",
       "      <td>12624548</td>\n",
       "      <td></td>\n",
       "      <td>0.000000</td>\n",
       "      <td>8</td>\n",
       "      <td>6137467593499280663</td>\n",
       "      <td>NaN</td>\n",
       "    </tr>\n",
       "    <tr>\n",
       "      <th>12</th>\n",
       "      <td>NaN</td>\n",
       "      <td>NaN</td>\n",
       "      <td>12624549</td>\n",
       "      <td></td>\n",
       "      <td>0.000000</td>\n",
       "      <td>17</td>\n",
       "      <td>4484633480144183416</td>\n",
       "      <td>NaN</td>\n",
       "    </tr>\n",
       "    <tr>\n",
       "      <th>13</th>\n",
       "      <td>JP</td>\n",
       "      <td>2017-04-07</td>\n",
       "      <td>12624549</td>\n",
       "      <td>11163522324375168320</td>\n",
       "      <td>2.164181</td>\n",
       "      <td>14</td>\n",
       "      <td>10866268052521674886</td>\n",
       "      <td>GAMES</td>\n",
       "    </tr>\n",
       "    <tr>\n",
       "      <th>14</th>\n",
       "      <td>NaN</td>\n",
       "      <td>NaN</td>\n",
       "      <td>12624549</td>\n",
       "      <td></td>\n",
       "      <td>0.000000</td>\n",
       "      <td>18</td>\n",
       "      <td>17158837425948468028</td>\n",
       "      <td>NaN</td>\n",
       "    </tr>\n",
       "    <tr>\n",
       "      <th>15</th>\n",
       "      <td>NaN</td>\n",
       "      <td>NaN</td>\n",
       "      <td>12624549</td>\n",
       "      <td></td>\n",
       "      <td>0.000000</td>\n",
       "      <td>19</td>\n",
       "      <td>18229780555460126953</td>\n",
       "      <td>NaN</td>\n",
       "    </tr>\n",
       "    <tr>\n",
       "      <th>16</th>\n",
       "      <td>ID</td>\n",
       "      <td>2017-04-02</td>\n",
       "      <td>12624548</td>\n",
       "      <td>6150947317170565689</td>\n",
       "      <td>0.975841</td>\n",
       "      <td>9</td>\n",
       "      <td>12694082849855316689</td>\n",
       "      <td>GAMES</td>\n",
       "    </tr>\n",
       "    <tr>\n",
       "      <th>17</th>\n",
       "      <td>ID</td>\n",
       "      <td>2017-04-02</td>\n",
       "      <td>12624548</td>\n",
       "      <td>14655009389327646207</td>\n",
       "      <td>2.868148</td>\n",
       "      <td>9</td>\n",
       "      <td>12694082849855316689</td>\n",
       "      <td>GAMES</td>\n",
       "    </tr>\n",
       "    <tr>\n",
       "      <th>18</th>\n",
       "      <td>NaN</td>\n",
       "      <td>NaN</td>\n",
       "      <td>12624549</td>\n",
       "      <td></td>\n",
       "      <td>0.000000</td>\n",
       "      <td>17</td>\n",
       "      <td>14436162251897333735</td>\n",
       "      <td>NaN</td>\n",
       "    </tr>\n",
       "    <tr>\n",
       "      <th>19</th>\n",
       "      <td>JP</td>\n",
       "      <td>2017-04-06</td>\n",
       "      <td>12624548</td>\n",
       "      <td>12543741064946064489</td>\n",
       "      <td>26.174415</td>\n",
       "      <td>4</td>\n",
       "      <td>10988135320952010206</td>\n",
       "      <td>GAMES</td>\n",
       "    </tr>\n",
       "    <tr>\n",
       "      <th>20</th>\n",
       "      <td>JP</td>\n",
       "      <td>2017-04-04</td>\n",
       "      <td>12624548</td>\n",
       "      <td>3013104460092423921</td>\n",
       "      <td>1.084750</td>\n",
       "      <td>4</td>\n",
       "      <td>10988135320952010206</td>\n",
       "      <td>GAMES</td>\n",
       "    </tr>\n",
       "    <tr>\n",
       "      <th>21</th>\n",
       "      <td>NaN</td>\n",
       "      <td>NaN</td>\n",
       "      <td>12624548</td>\n",
       "      <td></td>\n",
       "      <td>0.000000</td>\n",
       "      <td>9</td>\n",
       "      <td>2110504725244908498</td>\n",
       "      <td>NaN</td>\n",
       "    </tr>\n",
       "    <tr>\n",
       "      <th>22</th>\n",
       "      <td>NaN</td>\n",
       "      <td>NaN</td>\n",
       "      <td>12624548</td>\n",
       "      <td></td>\n",
       "      <td>0.000000</td>\n",
       "      <td>1</td>\n",
       "      <td>10715423330132361769</td>\n",
       "      <td>NaN</td>\n",
       "    </tr>\n",
       "    <tr>\n",
       "      <th>23</th>\n",
       "      <td>NaN</td>\n",
       "      <td>NaN</td>\n",
       "      <td>12624549</td>\n",
       "      <td></td>\n",
       "      <td>0.000000</td>\n",
       "      <td>5</td>\n",
       "      <td>13236725365684988830</td>\n",
       "      <td>NaN</td>\n",
       "    </tr>\n",
       "    <tr>\n",
       "      <th>24</th>\n",
       "      <td>NaN</td>\n",
       "      <td>NaN</td>\n",
       "      <td>12624549</td>\n",
       "      <td></td>\n",
       "      <td>0.000000</td>\n",
       "      <td>4</td>\n",
       "      <td>8996324787150471369</td>\n",
       "      <td>NaN</td>\n",
       "    </tr>\n",
       "    <tr>\n",
       "      <th>25</th>\n",
       "      <td>NaN</td>\n",
       "      <td>NaN</td>\n",
       "      <td>12624549</td>\n",
       "      <td></td>\n",
       "      <td>0.000000</td>\n",
       "      <td>16</td>\n",
       "      <td>1740044328577374354</td>\n",
       "      <td>NaN</td>\n",
       "    </tr>\n",
       "    <tr>\n",
       "      <th>26</th>\n",
       "      <td>US</td>\n",
       "      <td>2017-04-01</td>\n",
       "      <td>12624549</td>\n",
       "      <td>5130573664937170916</td>\n",
       "      <td>49.990000</td>\n",
       "      <td>6</td>\n",
       "      <td>15769937560239176622</td>\n",
       "      <td>GAMES</td>\n",
       "    </tr>\n",
       "    <tr>\n",
       "      <th>27</th>\n",
       "      <td>US</td>\n",
       "      <td>2017-04-07</td>\n",
       "      <td>12624549</td>\n",
       "      <td>15955949242795421064</td>\n",
       "      <td>9.990000</td>\n",
       "      <td>6</td>\n",
       "      <td>15769937560239176622</td>\n",
       "      <td>GAMES</td>\n",
       "    </tr>\n",
       "    <tr>\n",
       "      <th>28</th>\n",
       "      <td>US</td>\n",
       "      <td>2017-04-07</td>\n",
       "      <td>12624549</td>\n",
       "      <td>12360548851937891211</td>\n",
       "      <td>9.990000</td>\n",
       "      <td>6</td>\n",
       "      <td>15769937560239176622</td>\n",
       "      <td>GAMES</td>\n",
       "    </tr>\n",
       "    <tr>\n",
       "      <th>29</th>\n",
       "      <td>US</td>\n",
       "      <td>2017-04-07</td>\n",
       "      <td>12624549</td>\n",
       "      <td>7916594038982986286</td>\n",
       "      <td>9.990000</td>\n",
       "      <td>6</td>\n",
       "      <td>15769937560239176622</td>\n",
       "      <td>GAMES</td>\n",
       "    </tr>\n",
       "  </tbody>\n",
       "</table>\n",
       "</div>"
      ],
      "text/plain": [
       "   country        date  experiment_id              order_id  spend_usd  \\\n",
       "0      NaN         NaN       12624549                         0.000000   \n",
       "1      NaN         NaN       12624548                         0.000000   \n",
       "2      NaN         NaN       12624549                         0.000000   \n",
       "3      NaN         NaN       12624549                         0.000000   \n",
       "4      NaN         NaN       12624549                         0.000000   \n",
       "5      NaN         NaN       12624549                         0.000000   \n",
       "6      NaN         NaN       12624548                         0.000000   \n",
       "7      NaN         NaN       12624549                         0.000000   \n",
       "8      NaN         NaN       12624548                         0.000000   \n",
       "9      NaN         NaN       12624549                         0.000000   \n",
       "10     NaN         NaN       12624549                         0.000000   \n",
       "11     NaN         NaN       12624548                         0.000000   \n",
       "12     NaN         NaN       12624549                         0.000000   \n",
       "13      JP  2017-04-07       12624549  11163522324375168320   2.164181   \n",
       "14     NaN         NaN       12624549                         0.000000   \n",
       "15     NaN         NaN       12624549                         0.000000   \n",
       "16      ID  2017-04-02       12624548   6150947317170565689   0.975841   \n",
       "17      ID  2017-04-02       12624548  14655009389327646207   2.868148   \n",
       "18     NaN         NaN       12624549                         0.000000   \n",
       "19      JP  2017-04-06       12624548  12543741064946064489  26.174415   \n",
       "20      JP  2017-04-04       12624548   3013104460092423921   1.084750   \n",
       "21     NaN         NaN       12624548                         0.000000   \n",
       "22     NaN         NaN       12624548                         0.000000   \n",
       "23     NaN         NaN       12624549                         0.000000   \n",
       "24     NaN         NaN       12624549                         0.000000   \n",
       "25     NaN         NaN       12624549                         0.000000   \n",
       "26      US  2017-04-01       12624549   5130573664937170916  49.990000   \n",
       "27      US  2017-04-07       12624549  15955949242795421064   9.990000   \n",
       "28      US  2017-04-07       12624549  12360548851937891211   9.990000   \n",
       "29      US  2017-04-07       12624549   7916594038982986286   9.990000   \n",
       "\n",
       "    user_bucket               user_id vertical  \n",
       "0             3  16554430871838092438      NaN  \n",
       "1            14  14411542309984779713      NaN  \n",
       "2            20   8425202140671508556      NaN  \n",
       "3            16  11302731652742770675      NaN  \n",
       "4            14   1399243101040681867      NaN  \n",
       "5             3    298532566148711135      NaN  \n",
       "6             6   7166579328573822561      NaN  \n",
       "7            15    856361011881161765      NaN  \n",
       "8             4   7069403635541604873      NaN  \n",
       "9             5  10285381184010535915      NaN  \n",
       "10           16  17545155814544701869      NaN  \n",
       "11            8   6137467593499280663      NaN  \n",
       "12           17   4484633480144183416      NaN  \n",
       "13           14  10866268052521674886    GAMES  \n",
       "14           18  17158837425948468028      NaN  \n",
       "15           19  18229780555460126953      NaN  \n",
       "16            9  12694082849855316689    GAMES  \n",
       "17            9  12694082849855316689    GAMES  \n",
       "18           17  14436162251897333735      NaN  \n",
       "19            4  10988135320952010206    GAMES  \n",
       "20            4  10988135320952010206    GAMES  \n",
       "21            9   2110504725244908498      NaN  \n",
       "22            1  10715423330132361769      NaN  \n",
       "23            5  13236725365684988830      NaN  \n",
       "24            4   8996324787150471369      NaN  \n",
       "25           16   1740044328577374354      NaN  \n",
       "26            6  15769937560239176622    GAMES  \n",
       "27            6  15769937560239176622    GAMES  \n",
       "28            6  15769937560239176622    GAMES  \n",
       "29            6  15769937560239176622    GAMES  "
      ]
     },
     "execution_count": 5,
     "metadata": {},
     "output_type": "execute_result"
    }
   ],
   "source": [
    "mydata.head(30)"
   ]
  },
  {
   "cell_type": "code",
   "execution_count": 6,
   "metadata": {},
   "outputs": [
    {
     "data": {
      "text/plain": [
       "count    49166.000000\n",
       "mean         2.954898\n",
       "std         11.318265\n",
       "min          0.000000\n",
       "25%          0.000000\n",
       "50%          0.000000\n",
       "75%          0.225194\n",
       "max        199.990000\n",
       "Name: spend_usd, dtype: float64"
      ]
     },
     "execution_count": 6,
     "metadata": {},
     "output_type": "execute_result"
    }
   ],
   "source": [
    "mydata['spend_usd'].describe()"
   ]
  },
  {
   "cell_type": "code",
   "execution_count": 10,
   "metadata": {},
   "outputs": [
    {
     "data": {
      "text/plain": [
       "2017-04-01    2186\n",
       "2017-04-07    1834\n",
       "2017-04-02    1729\n",
       "2017-04-05    1684\n",
       "2017-04-06    1666\n",
       "2017-04-03    1660\n",
       "2017-04-04    1592\n",
       "Name: date, dtype: int64"
      ]
     },
     "execution_count": 10,
     "metadata": {},
     "output_type": "execute_result"
    }
   ],
   "source": [
    "mydata['date'].value_counts() #only 7 days'experiment"
   ]
  },
  {
   "cell_type": "code",
   "execution_count": 11,
   "metadata": {},
   "outputs": [
    {
     "data": {
      "text/plain": [
       "US    4364\n",
       "JP    2345\n",
       "KR    1374\n",
       "DE     669\n",
       "GB     652\n",
       "FR     386\n",
       "IT     276\n",
       "BR     252\n",
       "CA     245\n",
       "AU     228\n",
       "ID     228\n",
       "TR     187\n",
       "ES     134\n",
       "CH     121\n",
       "HK     119\n",
       "NL      95\n",
       "IN      87\n",
       "NO      73\n",
       "SG      65\n",
       "ZA      64\n",
       "BE      62\n",
       "AT      61\n",
       "PL      46\n",
       "SE      44\n",
       "DK      37\n",
       "NZ      33\n",
       "IE      25\n",
       "FI      22\n",
       "PT      21\n",
       "GR      12\n",
       "OM       3\n",
       "TH       3\n",
       "AE       2\n",
       "MX       1\n",
       "MY       1\n",
       "CZ       1\n",
       "LV       1\n",
       "Name: country, dtype: int64"
      ]
     },
     "execution_count": 11,
     "metadata": {},
     "output_type": "execute_result"
    }
   ],
   "source": [
    "mydata['country'].value_counts()"
   ]
  },
  {
   "cell_type": "code",
   "execution_count": 16,
   "metadata": {
    "collapsed": true
   },
   "outputs": [],
   "source": [
    "# Visualization"
   ]
  },
  {
   "cell_type": "code",
   "execution_count": null,
   "metadata": {
    "collapsed": true
   },
   "outputs": [],
   "source": [
    "### histogram"
   ]
  },
  {
   "cell_type": "code",
   "execution_count": 17,
   "metadata": {},
   "outputs": [
    {
     "data": {
      "text/plain": [
       "(array([  55.,  385.,  187.,   64.,  186.,  118.,  110.,   49.,  103.,\n",
       "          61.,  115.,   12.,   27.,    1.,   17.,    7.,   12.,   41.,\n",
       "          29.,   21.]),\n",
       " array([  9.02500000e-03,   1.00807375e+00,   2.00712250e+00,\n",
       "          3.00617125e+00,   4.00522000e+00,   5.00426875e+00,\n",
       "          6.00331750e+00,   7.00236625e+00,   8.00141500e+00,\n",
       "          9.00046375e+00,   9.99951250e+00,   1.09985612e+01,\n",
       "          1.19976100e+01,   1.29966587e+01,   1.39957075e+01,\n",
       "          1.49947562e+01,   1.59938050e+01,   1.69928537e+01,\n",
       "          1.79919025e+01,   1.89909512e+01,   1.99900000e+01]),\n",
       " <a list of 20 Patch objects>)"
      ]
     },
     "execution_count": 17,
     "metadata": {},
     "output_type": "execute_result"
    },
    {
     "data": {
      "text/plain": [
       "(array([ 956.,  716.,  279.,   94.,  663.,  109.,  111.,   59.,   21.,\n",
       "         491.,   28.,   17.,   13.,    5.,   70.,   20.,   17.,   16.,\n",
       "           6.,  292.]),\n",
       " array([  1.00000000e-02,   1.00900000e+00,   2.00800000e+00,\n",
       "          3.00700000e+00,   4.00600000e+00,   5.00500000e+00,\n",
       "          6.00400000e+00,   7.00300000e+00,   8.00200000e+00,\n",
       "          9.00100000e+00,   1.00000000e+01,   1.09990000e+01,\n",
       "          1.19980000e+01,   1.29970000e+01,   1.39960000e+01,\n",
       "          1.49950000e+01,   1.59940000e+01,   1.69930000e+01,\n",
       "          1.79920000e+01,   1.89910000e+01,   1.99900000e+01]),\n",
       " <a list of 20 Patch objects>)"
      ]
     },
     "execution_count": 17,
     "metadata": {},
     "output_type": "execute_result"
    },
    {
     "data": {
      "text/plain": [
       "Text(0.5,1,u'JP')"
      ]
     },
     "execution_count": 17,
     "metadata": {},
     "output_type": "execute_result"
    },
    {
     "data": {
      "text/plain": [
       "Text(0.5,1,u'US')"
      ]
     },
     "execution_count": 17,
     "metadata": {},
     "output_type": "execute_result"
    },
    {
     "data": {
      "text/plain": [
       "Text(0,0.5,u'Buyer count')"
      ]
     },
     "execution_count": 17,
     "metadata": {},
     "output_type": "execute_result"
    },
    {
     "data": {
      "text/plain": [
       "Text(0.5,0,u'Spend')"
      ]
     },
     "execution_count": 17,
     "metadata": {},
     "output_type": "execute_result"
    },
    {
     "data": {
      "text/plain": [
       "Text(0.5,0,u'Spend')"
      ]
     },
     "execution_count": 17,
     "metadata": {},
     "output_type": "execute_result"
    },
    {
     "data": {
      "image/png": "[encoded data removed]",
      "text/plain": [
       "<matplotlib.figure.Figure at 0x1a09cd2f50>"
      ]
     },
     "metadata": {},
     "output_type": "display_data"
    }
   ],
   "source": [
    "my_series_jp = mydata[\"spend_usd\"][(mydata.spend_usd < 20) & (mydata.country == \"JP\")]\n",
    "my_series_us = mydata[\"spend_usd\"][(mydata.spend_usd < 20) & (mydata.country == \"US\")]\n",
    "\n",
    "# plot \n",
    "fig, ax = plt.subplots(ncols=2, sharex=True, sharey=True)\n",
    "ax[0].hist(my_series_jp, bins=20)\n",
    "ax[1].hist(my_series_us, bins=20)\n",
    "\n",
    "ax[0].set_title(\"JP\")\n",
    "ax[1].set_title(\"US\")\n",
    "ax[0].set_ylabel(\"Buyer count\")\n",
    "ax[0].set_xlabel(\"Spend\")\n",
    "ax[1].set_xlabel(\"Spend\")"
   ]
  },
  {
   "cell_type": "code",
   "execution_count": null,
   "metadata": {
    "collapsed": true
   },
   "outputs": [],
   "source": [
    "### timeseries"
   ]
  },
  {
   "cell_type": "code",
   "execution_count": 37,
   "metadata": {},
   "outputs": [
    {
     "data": {
      "text/plain": [
       "array([12624548, 12624549])"
      ]
     },
     "execution_count": 37,
     "metadata": {},
     "output_type": "execute_result"
    },
    {
     "name": "stdout",
     "output_type": "stream",
     "text": [
      "(12624548, 12624549)\n"
     ]
    }
   ],
   "source": [
    "\n",
    "np.unique(mydata['experiment_id'])\n",
    "treatment=np.unique(mydata['experiment_id'])[0]\n",
    "control=np.unique(mydata['experiment_id'])[1]\n",
    "print (treatment,control)\n",
    "# treatment: 12624548\n",
    "# control:12624549\n",
    "\n",
    "#subset data\n",
    "treatment_data=mydata[['date','spend_usd']][mydata.experiment_id==treatment]\n",
    "control_data=mydata[['date','spend_usd']][mydata.experiment_id==control]\n",
    "\n",
    "# group by date\n",
    "ex_ts=treatment_data.groupby('date')['spend_usd'].sum()\n",
    "co_ts=control_data.groupby('date')['spend_usd'].sum()"
   ]
  },
  {
   "cell_type": "code",
   "execution_count": null,
   "metadata": {
    "collapsed": true
   },
   "outputs": [],
   "source": [
    "# plot"
   ]
  },
  {
   "cell_type": "code",
   "execution_count": 20,
   "metadata": {},
   "outputs": [
    {
     "data": {
      "text/plain": [
       "[<matplotlib.lines.Line2D at 0x1a09942510>]"
      ]
     },
     "execution_count": 20,
     "metadata": {},
     "output_type": "execute_result"
    },
    {
     "data": {
      "text/plain": [
       "[<matplotlib.lines.Line2D at 0x1a099fa950>]"
      ]
     },
     "execution_count": 20,
     "metadata": {},
     "output_type": "execute_result"
    },
    {
     "data": {
      "image/png": "[encoded data removed]",
      "text/plain": [
       "<matplotlib.figure.Figure at 0x1a0936aad0>"
      ]
     },
     "metadata": {},
     "output_type": "display_data"
    }
   ],
   "source": [
    "fig, ax = plt.subplots()\n",
    "ax.plot(ex_ts)\n",
    "ax.plot(ex_ts, c= \"red\")"
   ]
  },
  {
   "cell_type": "code",
   "execution_count": 31,
   "metadata": {},
   "outputs": [
    {
     "data": {
      "text/plain": [
       "[<matplotlib.lines.Line2D at 0x1a0a242ed0>]"
      ]
     },
     "execution_count": 31,
     "metadata": {},
     "output_type": "execute_result"
    },
    {
     "data": {
      "text/plain": [
       "[<matplotlib.lines.Line2D at 0x1a0a2669d0>]"
      ]
     },
     "execution_count": 31,
     "metadata": {},
     "output_type": "execute_result"
    },
    {
     "data": {
      "text/plain": [
       "(0, 18000)"
      ]
     },
     "execution_count": 31,
     "metadata": {},
     "output_type": "execute_result"
    },
    {
     "data": {
      "text/plain": [
       "Text(0.5,1,u'Treatment VS.Control')"
      ]
     },
     "execution_count": 31,
     "metadata": {},
     "output_type": "execute_result"
    },
    {
     "data": {
      "text/plain": [
       "Text(0,0.5,u'Total spend')"
      ]
     },
     "execution_count": 31,
     "metadata": {},
     "output_type": "execute_result"
    },
    {
     "data": {
      "text/plain": [
       "Text(0.5,0,u'')"
      ]
     },
     "execution_count": 31,
     "metadata": {},
     "output_type": "execute_result"
    },
    {
     "data": {
      "image/png": "[encoded data removed]",
      "text/plain": [
       "<matplotlib.figure.Figure at 0x1a13384290>"
      ]
     },
     "metadata": {},
     "output_type": "display_data"
    }
   ],
   "source": [
    "\n",
    "# redo it\n",
    "treatment_data=mydata[['date','spend_usd']][mydata.experiment_id==treatment]\n",
    "control_data=mydata[['date','spend_usd']][mydata.experiment_id==control]\n",
    "ex_ts=treatment_data.groupby('date')['spend_usd'].sum()\n",
    "co_ts=control_data.groupby('date')['spend_usd'].sum()\n",
    "\n",
    "fig, ax = plt.subplots()\n",
    "ax.plot(ex_ts, color=\"red\", label=\"Treatment\")\n",
    "ax.plot(co_ts, color=\"blue\", label = \"Control\")\n",
    "\n",
    "# some tweaks\n",
    "ax.set_ylim(0,18000)\n",
    "ax.set_title(\"Treatment VS.Control\")\n",
    "ax.set_ylabel(\"Total spend\")\n",
    "ax.set_xlabel(\"\")\n",
    "#ax.grid(True, which=\"major\")\n",
    "ax.grid(True, which=\"both\")\n",
    "\n",
    "# change legend\n",
    "ax.legend().get_texts()[0].set_text(\"Treatment\")\n",
    "ax.legend().get_texts()[1].set_text(\"Control\")\n",
    "# format date\n",
    "plt.gcf().autofmt_xdate()"
   ]
  },
  {
   "cell_type": "code",
   "execution_count": 38,
   "metadata": {},
   "outputs": [
    {
     "name": "stdout",
     "output_type": "stream",
     "text": [
      "(date\n",
      "2017-04-01    17963.103570\n",
      "2017-04-02    26856.683957\n",
      "2017-04-03    39004.443456\n",
      "2017-04-04    47907.320473\n",
      "2017-04-05    57619.548730\n",
      "2017-04-06    65852.571312\n",
      "2017-04-07    76584.933564\n",
      "Name: spend_usd, dtype: float64, 76584)\n",
      "(date\n",
      "2017-04-01    15083.331851\n",
      "2017-04-02    24850.577501\n",
      "2017-04-03    33528.856545\n",
      "2017-04-04    40989.744541\n",
      "2017-04-05    49093.687008\n",
      "2017-04-06    58683.442742\n",
      "2017-04-07    68695.599490\n",
      "Name: spend_usd, dtype: float64, 68695)\n"
     ]
    }
   ],
   "source": [
    "# cumulative time series\n",
    "ex_ts=np.cumsum(ex_ts)\n",
    "co_ts=np.cumsum(co_ts)\n",
    "\n",
    "total_revenue1 = int(ex_ts[-1])\n",
    "total_revenue2 = int(co_ts[-1])\n",
    "\n",
    "print (ex_ts, total_revenue1)\n",
    "print (co_ts, total_revenue2)"
   ]
  },
  {
   "cell_type": "code",
   "execution_count": 40,
   "metadata": {},
   "outputs": [
    {
     "data": {
      "image/png": "[encoded data removed]",
      "text/plain": [
       "<matplotlib.figure.Figure at 0x1a09ab1150>"
      ]
     },
     "metadata": {},
     "output_type": "display_data"
    }
   ],
   "source": [
    "# plot\n",
    "def PlotSeries(experiment_series, control_series):\n",
    "    fig, ax = plt.subplots()\n",
    "    ax.plot(experiment_series, color=\"red\", label=\"treatment\")\n",
    "    ax.plot(control_series, color=\"blue\", label=\"control\")\n",
    "    ax.set_title(\"Treatment vs. Control\")\n",
    "    ax.set_ylabel(\"Total spend\")\n",
    "    ax.grid(True, which=\"both\")\n",
    "    ax.legend()\n",
    "    plt.gcf().autofmt_xdate()\n",
    "\n",
    "PlotSeries(ex_ts,co_ts)"
   ]
  },
  {
   "cell_type": "code",
   "execution_count": null,
   "metadata": {
    "collapsed": true
   },
   "outputs": [],
   "source": []
  }
 ],
 "metadata": {
  "kernelspec": {
   "display_name": "Python 2",
   "language": "python",
   "name": "python2"
  },
  "language_info": {
   "codemirror_mode": {
    "name": "ipython",
    "version": 2
   },
   "file_extension": ".py",
   "mimetype": "text/x-python",
   "name": "python",
   "nbconvert_exporter": "python",
   "pygments_lexer": "ipython2",
   "version": "2.7.14"
  }
 },
 "nbformat": 4,
 "nbformat_minor": 2
}
