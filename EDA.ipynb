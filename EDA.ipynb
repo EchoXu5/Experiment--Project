{
 "cells": [
  {
   "cell_type": "code",
   "execution_count": 1,
   "metadata": {
    "collapsed": true
   },
   "outputs": [],
   "source": [
    "import numpy as np\n",
    "import pandas as pd\n",
    "import scipy.stats as stats\n",
    "%matplotlib inline\n",
    "import matplotlib.pyplot as plt\n",
    "\n",
    "##load data\n",
    "\n",
    "file_location=\"/Users/boxiao/Documents/yunjia/bittiger/Project two/\"\n",
    "file_name=\"Python_project_eda.csv\"\n",
    "mydata=pd.read_csv(file_location+file_name)\n",
    "\n",
    "# print all the outputs in a cell\n",
    "from IPython.core.interactiveshell import InteractiveShell\n",
    "InteractiveShell.ast_node_interactivity = \"all\""
   ]
  },
  {
   "cell_type": "markdown",
   "metadata": {},
   "source": [
    "## Exploratory data analysis (EDA)"
   ]
  },
  {
   "cell_type": "code",
   "execution_count": 2,
   "metadata": {},
   "outputs": [
    {
     "data": {
      "text/plain": [
       "(566699, 15)"
      ]
     },
     "execution_count": 2,
     "metadata": {},
     "output_type": "execute_result"
    }
   ],
   "source": [
    "mydata.shape"
   ]
  },
  {
   "cell_type": "code",
   "execution_count": 3,
   "metadata": {},
   "outputs": [
    {
     "name": "stdout",
     "output_type": "stream",
     "text": [
      "<class 'pandas.core.frame.DataFrame'>\n",
      "RangeIndex: 566699 entries, 0 to 566698\n",
      "Data columns (total 15 columns):\n",
      "buyer_week_before         566699 non-null int64\n",
      "clicked_buy_before        495640 non-null float64\n",
      "country                   554175 non-null object\n",
      "existing_buyer            566699 non-null int64\n",
      "initial_fop_set           566699 non-null bool\n",
      "made_purchase_before      495640 non-null float64\n",
      "saw_cart_before           495640 non-null float64\n",
      "spend_usd_next_14_days    89032 non-null float64\n",
      "user_added_credit_card    170597 non-null float64\n",
      "user_added_dcb            170597 non-null float64\n",
      "user_added_fop            566699 non-null int64\n",
      "user_added_gift_card      170597 non-null float64\n",
      "user_added_paypal         170597 non-null float64\n",
      "user_id                   566699 non-null uint64\n",
      "visit_before              566699 non-null int64\n",
      "dtypes: bool(1), float64(8), int64(4), object(1), uint64(1)\n",
      "memory usage: 61.1+ MB\n"
     ]
    }
   ],
   "source": [
    "mydata.info()"
   ]
  },
  {
   "cell_type": "code",
   "execution_count": 4,
   "metadata": {},
   "outputs": [
    {
     "data": {
      "text/html": [
       "<div>\n",
       "<style>\n",
       "    .dataframe thead tr:only-child th {\n",
       "        text-align: right;\n",
       "    }\n",
       "\n",
       "    .dataframe thead th {\n",
       "        text-align: left;\n",
       "    }\n",
       "\n",
       "    .dataframe tbody tr th {\n",
       "        vertical-align: top;\n",
       "    }\n",
       "</style>\n",
       "<table border=\"1\" class=\"dataframe\">\n",
       "  <thead>\n",
       "    <tr style=\"text-align: right;\">\n",
       "      <th></th>\n",
       "      <th>buyer_week_before</th>\n",
       "      <th>clicked_buy_before</th>\n",
       "      <th>country</th>\n",
       "      <th>existing_buyer</th>\n",
       "      <th>initial_fop_set</th>\n",
       "      <th>made_purchase_before</th>\n",
       "      <th>saw_cart_before</th>\n",
       "      <th>spend_usd_next_14_days</th>\n",
       "      <th>user_added_credit_card</th>\n",
       "      <th>user_added_dcb</th>\n",
       "      <th>user_added_fop</th>\n",
       "      <th>user_added_gift_card</th>\n",
       "      <th>user_added_paypal</th>\n",
       "      <th>user_id</th>\n",
       "      <th>visit_before</th>\n",
       "    </tr>\n",
       "  </thead>\n",
       "  <tbody>\n",
       "    <tr>\n",
       "      <th>0</th>\n",
       "      <td>0</td>\n",
       "      <td>0.0</td>\n",
       "      <td>IN</td>\n",
       "      <td>0</td>\n",
       "      <td>False</td>\n",
       "      <td>0.0</td>\n",
       "      <td>1.0</td>\n",
       "      <td>NaN</td>\n",
       "      <td>NaN</td>\n",
       "      <td>NaN</td>\n",
       "      <td>0</td>\n",
       "      <td>NaN</td>\n",
       "      <td>NaN</td>\n",
       "      <td>18321316048201303366</td>\n",
       "      <td>1</td>\n",
       "    </tr>\n",
       "    <tr>\n",
       "      <th>1</th>\n",
       "      <td>0</td>\n",
       "      <td>0.0</td>\n",
       "      <td>IN</td>\n",
       "      <td>0</td>\n",
       "      <td>False</td>\n",
       "      <td>0.0</td>\n",
       "      <td>1.0</td>\n",
       "      <td>NaN</td>\n",
       "      <td>NaN</td>\n",
       "      <td>NaN</td>\n",
       "      <td>0</td>\n",
       "      <td>NaN</td>\n",
       "      <td>NaN</td>\n",
       "      <td>13705367724816913241</td>\n",
       "      <td>1</td>\n",
       "    </tr>\n",
       "    <tr>\n",
       "      <th>2</th>\n",
       "      <td>0</td>\n",
       "      <td>NaN</td>\n",
       "      <td>IN</td>\n",
       "      <td>0</td>\n",
       "      <td>False</td>\n",
       "      <td>NaN</td>\n",
       "      <td>NaN</td>\n",
       "      <td>NaN</td>\n",
       "      <td>NaN</td>\n",
       "      <td>NaN</td>\n",
       "      <td>0</td>\n",
       "      <td>NaN</td>\n",
       "      <td>NaN</td>\n",
       "      <td>6605724765451655114</td>\n",
       "      <td>0</td>\n",
       "    </tr>\n",
       "    <tr>\n",
       "      <th>3</th>\n",
       "      <td>0</td>\n",
       "      <td>1.0</td>\n",
       "      <td>CA</td>\n",
       "      <td>1</td>\n",
       "      <td>True</td>\n",
       "      <td>1.0</td>\n",
       "      <td>1.0</td>\n",
       "      <td>7.398815</td>\n",
       "      <td>1.0</td>\n",
       "      <td>0.0</td>\n",
       "      <td>1</td>\n",
       "      <td>0.0</td>\n",
       "      <td>0.0</td>\n",
       "      <td>2340067911948261502</td>\n",
       "      <td>1</td>\n",
       "    </tr>\n",
       "    <tr>\n",
       "      <th>4</th>\n",
       "      <td>7</td>\n",
       "      <td>1.0</td>\n",
       "      <td>PL</td>\n",
       "      <td>1</td>\n",
       "      <td>True</td>\n",
       "      <td>1.0</td>\n",
       "      <td>1.0</td>\n",
       "      <td>NaN</td>\n",
       "      <td>0.0</td>\n",
       "      <td>1.0</td>\n",
       "      <td>1</td>\n",
       "      <td>0.0</td>\n",
       "      <td>0.0</td>\n",
       "      <td>11891045596810635427</td>\n",
       "      <td>1</td>\n",
       "    </tr>\n",
       "    <tr>\n",
       "      <th>5</th>\n",
       "      <td>0</td>\n",
       "      <td>0.0</td>\n",
       "      <td>ID</td>\n",
       "      <td>0</td>\n",
       "      <td>False</td>\n",
       "      <td>0.0</td>\n",
       "      <td>1.0</td>\n",
       "      <td>NaN</td>\n",
       "      <td>NaN</td>\n",
       "      <td>NaN</td>\n",
       "      <td>0</td>\n",
       "      <td>NaN</td>\n",
       "      <td>NaN</td>\n",
       "      <td>16960375743361213328</td>\n",
       "      <td>1</td>\n",
       "    </tr>\n",
       "    <tr>\n",
       "      <th>6</th>\n",
       "      <td>0</td>\n",
       "      <td>1.0</td>\n",
       "      <td>TH</td>\n",
       "      <td>0</td>\n",
       "      <td>True</td>\n",
       "      <td>1.0</td>\n",
       "      <td>1.0</td>\n",
       "      <td>NaN</td>\n",
       "      <td>0.0</td>\n",
       "      <td>1.0</td>\n",
       "      <td>1</td>\n",
       "      <td>0.0</td>\n",
       "      <td>0.0</td>\n",
       "      <td>14845700381773612658</td>\n",
       "      <td>1</td>\n",
       "    </tr>\n",
       "    <tr>\n",
       "      <th>7</th>\n",
       "      <td>0</td>\n",
       "      <td>0.0</td>\n",
       "      <td>ID</td>\n",
       "      <td>0</td>\n",
       "      <td>False</td>\n",
       "      <td>0.0</td>\n",
       "      <td>1.0</td>\n",
       "      <td>NaN</td>\n",
       "      <td>NaN</td>\n",
       "      <td>NaN</td>\n",
       "      <td>0</td>\n",
       "      <td>NaN</td>\n",
       "      <td>NaN</td>\n",
       "      <td>1407472760358057975</td>\n",
       "      <td>1</td>\n",
       "    </tr>\n",
       "    <tr>\n",
       "      <th>8</th>\n",
       "      <td>0</td>\n",
       "      <td>0.0</td>\n",
       "      <td>NaN</td>\n",
       "      <td>0</td>\n",
       "      <td>False</td>\n",
       "      <td>0.0</td>\n",
       "      <td>1.0</td>\n",
       "      <td>NaN</td>\n",
       "      <td>NaN</td>\n",
       "      <td>NaN</td>\n",
       "      <td>0</td>\n",
       "      <td>NaN</td>\n",
       "      <td>NaN</td>\n",
       "      <td>795175088989280187</td>\n",
       "      <td>1</td>\n",
       "    </tr>\n",
       "    <tr>\n",
       "      <th>9</th>\n",
       "      <td>0</td>\n",
       "      <td>0.0</td>\n",
       "      <td>GR</td>\n",
       "      <td>0</td>\n",
       "      <td>False</td>\n",
       "      <td>0.0</td>\n",
       "      <td>1.0</td>\n",
       "      <td>NaN</td>\n",
       "      <td>NaN</td>\n",
       "      <td>NaN</td>\n",
       "      <td>0</td>\n",
       "      <td>NaN</td>\n",
       "      <td>NaN</td>\n",
       "      <td>6034351615620544692</td>\n",
       "      <td>1</td>\n",
       "    </tr>\n",
       "  </tbody>\n",
       "</table>\n",
       "</div>"
      ],
      "text/plain": [
       "   buyer_week_before  clicked_buy_before country  existing_buyer  \\\n",
       "0                  0                 0.0      IN               0   \n",
       "1                  0                 0.0      IN               0   \n",
       "2                  0                 NaN      IN               0   \n",
       "3                  0                 1.0      CA               1   \n",
       "4                  7                 1.0      PL               1   \n",
       "5                  0                 0.0      ID               0   \n",
       "6                  0                 1.0      TH               0   \n",
       "7                  0                 0.0      ID               0   \n",
       "8                  0                 0.0     NaN               0   \n",
       "9                  0                 0.0      GR               0   \n",
       "\n",
       "   initial_fop_set  made_purchase_before  saw_cart_before  \\\n",
       "0            False                   0.0              1.0   \n",
       "1            False                   0.0              1.0   \n",
       "2            False                   NaN              NaN   \n",
       "3             True                   1.0              1.0   \n",
       "4             True                   1.0              1.0   \n",
       "5            False                   0.0              1.0   \n",
       "6             True                   1.0              1.0   \n",
       "7            False                   0.0              1.0   \n",
       "8            False                   0.0              1.0   \n",
       "9            False                   0.0              1.0   \n",
       "\n",
       "   spend_usd_next_14_days  user_added_credit_card  user_added_dcb  \\\n",
       "0                     NaN                     NaN             NaN   \n",
       "1                     NaN                     NaN             NaN   \n",
       "2                     NaN                     NaN             NaN   \n",
       "3                7.398815                     1.0             0.0   \n",
       "4                     NaN                     0.0             1.0   \n",
       "5                     NaN                     NaN             NaN   \n",
       "6                     NaN                     0.0             1.0   \n",
       "7                     NaN                     NaN             NaN   \n",
       "8                     NaN                     NaN             NaN   \n",
       "9                     NaN                     NaN             NaN   \n",
       "\n",
       "   user_added_fop  user_added_gift_card  user_added_paypal  \\\n",
       "0               0                   NaN                NaN   \n",
       "1               0                   NaN                NaN   \n",
       "2               0                   NaN                NaN   \n",
       "3               1                   0.0                0.0   \n",
       "4               1                   0.0                0.0   \n",
       "5               0                   NaN                NaN   \n",
       "6               1                   0.0                0.0   \n",
       "7               0                   NaN                NaN   \n",
       "8               0                   NaN                NaN   \n",
       "9               0                   NaN                NaN   \n",
       "\n",
       "                user_id  visit_before  \n",
       "0  18321316048201303366             1  \n",
       "1  13705367724816913241             1  \n",
       "2   6605724765451655114             0  \n",
       "3   2340067911948261502             1  \n",
       "4  11891045596810635427             1  \n",
       "5  16960375743361213328             1  \n",
       "6  14845700381773612658             1  \n",
       "7   1407472760358057975             1  \n",
       "8    795175088989280187             1  \n",
       "9   6034351615620544692             1  "
      ]
     },
     "execution_count": 4,
     "metadata": {},
     "output_type": "execute_result"
    }
   ],
   "source": [
    "mydata.head(10)"
   ]
  },
  {
   "cell_type": "markdown",
   "metadata": {},
   "source": [
    "##### Deal with the missing value: \n",
    "#### Treat missing value as 0 exclued country. Treat missing value in country as 'unknown'"
   ]
  },
  {
   "cell_type": "code",
   "execution_count": 5,
   "metadata": {
    "collapsed": true
   },
   "outputs": [],
   "source": [
    "# exclued variable 'country'"
   ]
  },
  {
   "cell_type": "code",
   "execution_count": 6,
   "metadata": {
    "collapsed": true
   },
   "outputs": [],
   "source": [
    "data=mydata.drop('country',1).fillna(0)"
   ]
  },
  {
   "cell_type": "code",
   "execution_count": 7,
   "metadata": {},
   "outputs": [
    {
     "data": {
      "text/plain": [
       "0     IN\n",
       "1     IN\n",
       "2     IN\n",
       "3     CA\n",
       "4     PL\n",
       "5     ID\n",
       "6     TH\n",
       "7     ID\n",
       "8    NaN\n",
       "9     GR\n",
       "Name: country, dtype: object"
      ]
     },
     "execution_count": 7,
     "metadata": {},
     "output_type": "execute_result"
    }
   ],
   "source": [
    "country=mydata['country']\n",
    "country.head(10)"
   ]
  },
  {
   "cell_type": "code",
   "execution_count": 8,
   "metadata": {},
   "outputs": [
    {
     "data": {
      "text/plain": [
       "0"
      ]
     },
     "execution_count": 8,
     "metadata": {},
     "output_type": "execute_result"
    }
   ],
   "source": [
    "country=country.fillna('unknown')\n",
    "country.isnull().sum()"
   ]
  },
  {
   "cell_type": "code",
   "execution_count": 9,
   "metadata": {},
   "outputs": [
    {
     "data": {
      "text/plain": [
       "buyer_week_before         0\n",
       "clicked_buy_before        0\n",
       "existing_buyer            0\n",
       "initial_fop_set           0\n",
       "made_purchase_before      0\n",
       "saw_cart_before           0\n",
       "spend_usd_next_14_days    0\n",
       "user_added_credit_card    0\n",
       "user_added_dcb            0\n",
       "user_added_fop            0\n",
       "user_added_gift_card      0\n",
       "user_added_paypal         0\n",
       "user_id                   0\n",
       "visit_before              0\n",
       "dtype: int64"
      ]
     },
     "execution_count": 9,
     "metadata": {},
     "output_type": "execute_result"
    }
   ],
   "source": [
    "data.isnull().sum()"
   ]
  },
  {
   "cell_type": "code",
   "execution_count": 10,
   "metadata": {
    "collapsed": true
   },
   "outputs": [],
   "source": [
    "# merge both into one dataframe"
   ]
  },
  {
   "cell_type": "code",
   "execution_count": 11,
   "metadata": {},
   "outputs": [
    {
     "data": {
      "text/html": [
       "<div>\n",
       "<style>\n",
       "    .dataframe thead tr:only-child th {\n",
       "        text-align: right;\n",
       "    }\n",
       "\n",
       "    .dataframe thead th {\n",
       "        text-align: left;\n",
       "    }\n",
       "\n",
       "    .dataframe tbody tr th {\n",
       "        vertical-align: top;\n",
       "    }\n",
       "</style>\n",
       "<table border=\"1\" class=\"dataframe\">\n",
       "  <thead>\n",
       "    <tr style=\"text-align: right;\">\n",
       "      <th></th>\n",
       "      <th>buyer_week_before</th>\n",
       "      <th>clicked_buy_before</th>\n",
       "      <th>existing_buyer</th>\n",
       "      <th>initial_fop_set</th>\n",
       "      <th>made_purchase_before</th>\n",
       "      <th>saw_cart_before</th>\n",
       "      <th>spend_usd_next_14_days</th>\n",
       "      <th>user_added_credit_card</th>\n",
       "      <th>user_added_dcb</th>\n",
       "      <th>user_added_fop</th>\n",
       "      <th>user_added_gift_card</th>\n",
       "      <th>user_added_paypal</th>\n",
       "      <th>user_id</th>\n",
       "      <th>visit_before</th>\n",
       "      <th>country</th>\n",
       "    </tr>\n",
       "  </thead>\n",
       "  <tbody>\n",
       "    <tr>\n",
       "      <th>0</th>\n",
       "      <td>0</td>\n",
       "      <td>0.0</td>\n",
       "      <td>0</td>\n",
       "      <td>False</td>\n",
       "      <td>0.0</td>\n",
       "      <td>1.0</td>\n",
       "      <td>0.000000</td>\n",
       "      <td>0.0</td>\n",
       "      <td>0.0</td>\n",
       "      <td>0</td>\n",
       "      <td>0.0</td>\n",
       "      <td>0.0</td>\n",
       "      <td>18321316048201303366</td>\n",
       "      <td>1</td>\n",
       "      <td>IN</td>\n",
       "    </tr>\n",
       "    <tr>\n",
       "      <th>1</th>\n",
       "      <td>0</td>\n",
       "      <td>0.0</td>\n",
       "      <td>0</td>\n",
       "      <td>False</td>\n",
       "      <td>0.0</td>\n",
       "      <td>1.0</td>\n",
       "      <td>0.000000</td>\n",
       "      <td>0.0</td>\n",
       "      <td>0.0</td>\n",
       "      <td>0</td>\n",
       "      <td>0.0</td>\n",
       "      <td>0.0</td>\n",
       "      <td>13705367724816913241</td>\n",
       "      <td>1</td>\n",
       "      <td>IN</td>\n",
       "    </tr>\n",
       "    <tr>\n",
       "      <th>2</th>\n",
       "      <td>0</td>\n",
       "      <td>0.0</td>\n",
       "      <td>0</td>\n",
       "      <td>False</td>\n",
       "      <td>0.0</td>\n",
       "      <td>0.0</td>\n",
       "      <td>0.000000</td>\n",
       "      <td>0.0</td>\n",
       "      <td>0.0</td>\n",
       "      <td>0</td>\n",
       "      <td>0.0</td>\n",
       "      <td>0.0</td>\n",
       "      <td>6605724765451655114</td>\n",
       "      <td>0</td>\n",
       "      <td>IN</td>\n",
       "    </tr>\n",
       "    <tr>\n",
       "      <th>3</th>\n",
       "      <td>0</td>\n",
       "      <td>1.0</td>\n",
       "      <td>1</td>\n",
       "      <td>True</td>\n",
       "      <td>1.0</td>\n",
       "      <td>1.0</td>\n",
       "      <td>7.398815</td>\n",
       "      <td>1.0</td>\n",
       "      <td>0.0</td>\n",
       "      <td>1</td>\n",
       "      <td>0.0</td>\n",
       "      <td>0.0</td>\n",
       "      <td>2340067911948261502</td>\n",
       "      <td>1</td>\n",
       "      <td>CA</td>\n",
       "    </tr>\n",
       "    <tr>\n",
       "      <th>4</th>\n",
       "      <td>7</td>\n",
       "      <td>1.0</td>\n",
       "      <td>1</td>\n",
       "      <td>True</td>\n",
       "      <td>1.0</td>\n",
       "      <td>1.0</td>\n",
       "      <td>0.000000</td>\n",
       "      <td>0.0</td>\n",
       "      <td>1.0</td>\n",
       "      <td>1</td>\n",
       "      <td>0.0</td>\n",
       "      <td>0.0</td>\n",
       "      <td>11891045596810635427</td>\n",
       "      <td>1</td>\n",
       "      <td>PL</td>\n",
       "    </tr>\n",
       "    <tr>\n",
       "      <th>5</th>\n",
       "      <td>0</td>\n",
       "      <td>0.0</td>\n",
       "      <td>0</td>\n",
       "      <td>False</td>\n",
       "      <td>0.0</td>\n",
       "      <td>1.0</td>\n",
       "      <td>0.000000</td>\n",
       "      <td>0.0</td>\n",
       "      <td>0.0</td>\n",
       "      <td>0</td>\n",
       "      <td>0.0</td>\n",
       "      <td>0.0</td>\n",
       "      <td>16960375743361213328</td>\n",
       "      <td>1</td>\n",
       "      <td>ID</td>\n",
       "    </tr>\n",
       "    <tr>\n",
       "      <th>6</th>\n",
       "      <td>0</td>\n",
       "      <td>1.0</td>\n",
       "      <td>0</td>\n",
       "      <td>True</td>\n",
       "      <td>1.0</td>\n",
       "      <td>1.0</td>\n",
       "      <td>0.000000</td>\n",
       "      <td>0.0</td>\n",
       "      <td>1.0</td>\n",
       "      <td>1</td>\n",
       "      <td>0.0</td>\n",
       "      <td>0.0</td>\n",
       "      <td>14845700381773612658</td>\n",
       "      <td>1</td>\n",
       "      <td>TH</td>\n",
       "    </tr>\n",
       "    <tr>\n",
       "      <th>7</th>\n",
       "      <td>0</td>\n",
       "      <td>0.0</td>\n",
       "      <td>0</td>\n",
       "      <td>False</td>\n",
       "      <td>0.0</td>\n",
       "      <td>1.0</td>\n",
       "      <td>0.000000</td>\n",
       "      <td>0.0</td>\n",
       "      <td>0.0</td>\n",
       "      <td>0</td>\n",
       "      <td>0.0</td>\n",
       "      <td>0.0</td>\n",
       "      <td>1407472760358057975</td>\n",
       "      <td>1</td>\n",
       "      <td>ID</td>\n",
       "    </tr>\n",
       "    <tr>\n",
       "      <th>8</th>\n",
       "      <td>0</td>\n",
       "      <td>0.0</td>\n",
       "      <td>0</td>\n",
       "      <td>False</td>\n",
       "      <td>0.0</td>\n",
       "      <td>1.0</td>\n",
       "      <td>0.000000</td>\n",
       "      <td>0.0</td>\n",
       "      <td>0.0</td>\n",
       "      <td>0</td>\n",
       "      <td>0.0</td>\n",
       "      <td>0.0</td>\n",
       "      <td>795175088989280187</td>\n",
       "      <td>1</td>\n",
       "      <td>unknown</td>\n",
       "    </tr>\n",
       "    <tr>\n",
       "      <th>9</th>\n",
       "      <td>0</td>\n",
       "      <td>0.0</td>\n",
       "      <td>0</td>\n",
       "      <td>False</td>\n",
       "      <td>0.0</td>\n",
       "      <td>1.0</td>\n",
       "      <td>0.000000</td>\n",
       "      <td>0.0</td>\n",
       "      <td>0.0</td>\n",
       "      <td>0</td>\n",
       "      <td>0.0</td>\n",
       "      <td>0.0</td>\n",
       "      <td>6034351615620544692</td>\n",
       "      <td>1</td>\n",
       "      <td>GR</td>\n",
       "    </tr>\n",
       "  </tbody>\n",
       "</table>\n",
       "</div>"
      ],
      "text/plain": [
       "   buyer_week_before  clicked_buy_before  existing_buyer  initial_fop_set  \\\n",
       "0                  0                 0.0               0            False   \n",
       "1                  0                 0.0               0            False   \n",
       "2                  0                 0.0               0            False   \n",
       "3                  0                 1.0               1             True   \n",
       "4                  7                 1.0               1             True   \n",
       "5                  0                 0.0               0            False   \n",
       "6                  0                 1.0               0             True   \n",
       "7                  0                 0.0               0            False   \n",
       "8                  0                 0.0               0            False   \n",
       "9                  0                 0.0               0            False   \n",
       "\n",
       "   made_purchase_before  saw_cart_before  spend_usd_next_14_days  \\\n",
       "0                   0.0              1.0                0.000000   \n",
       "1                   0.0              1.0                0.000000   \n",
       "2                   0.0              0.0                0.000000   \n",
       "3                   1.0              1.0                7.398815   \n",
       "4                   1.0              1.0                0.000000   \n",
       "5                   0.0              1.0                0.000000   \n",
       "6                   1.0              1.0                0.000000   \n",
       "7                   0.0              1.0                0.000000   \n",
       "8                   0.0              1.0                0.000000   \n",
       "9                   0.0              1.0                0.000000   \n",
       "\n",
       "   user_added_credit_card  user_added_dcb  user_added_fop  \\\n",
       "0                     0.0             0.0               0   \n",
       "1                     0.0             0.0               0   \n",
       "2                     0.0             0.0               0   \n",
       "3                     1.0             0.0               1   \n",
       "4                     0.0             1.0               1   \n",
       "5                     0.0             0.0               0   \n",
       "6                     0.0             1.0               1   \n",
       "7                     0.0             0.0               0   \n",
       "8                     0.0             0.0               0   \n",
       "9                     0.0             0.0               0   \n",
       "\n",
       "   user_added_gift_card  user_added_paypal               user_id  \\\n",
       "0                   0.0                0.0  18321316048201303366   \n",
       "1                   0.0                0.0  13705367724816913241   \n",
       "2                   0.0                0.0   6605724765451655114   \n",
       "3                   0.0                0.0   2340067911948261502   \n",
       "4                   0.0                0.0  11891045596810635427   \n",
       "5                   0.0                0.0  16960375743361213328   \n",
       "6                   0.0                0.0  14845700381773612658   \n",
       "7                   0.0                0.0   1407472760358057975   \n",
       "8                   0.0                0.0    795175088989280187   \n",
       "9                   0.0                0.0   6034351615620544692   \n",
       "\n",
       "   visit_before  country  \n",
       "0             1       IN  \n",
       "1             1       IN  \n",
       "2             0       IN  \n",
       "3             1       CA  \n",
       "4             1       PL  \n",
       "5             1       ID  \n",
       "6             1       TH  \n",
       "7             1       ID  \n",
       "8             1  unknown  \n",
       "9             1       GR  "
      ]
     },
     "execution_count": 11,
     "metadata": {},
     "output_type": "execute_result"
    }
   ],
   "source": [
    "data['country']=country\n",
    "data.head(10)"
   ]
  },
  {
   "cell_type": "code",
   "execution_count": 12,
   "metadata": {},
   "outputs": [
    {
     "data": {
      "text/plain": [
       "IN    71023\n",
       "US    66011\n",
       "ID    39204\n",
       "BR    36341\n",
       "RU    23618\n",
       "JP    18916\n",
       "TR    17562\n",
       "MX    15626\n",
       "KR    13950\n",
       "VN    13686\n",
       "Name: country, dtype: int64"
      ]
     },
     "execution_count": 12,
     "metadata": {},
     "output_type": "execute_result"
    }
   ],
   "source": [
    "data[\"country\"].value_counts().sort_values(ascending =False).head(10)"
   ]
  },
  {
   "cell_type": "markdown",
   "metadata": {},
   "source": [
    "### Deal with outlier"
   ]
  },
  {
   "cell_type": "markdown",
   "metadata": {
    "collapsed": true
   },
   "source": [
    "#### Describe statistics"
   ]
  },
  {
   "cell_type": "markdown",
   "metadata": {
    "collapsed": true
   },
   "source": [
    "### creat new variables:convert "
   ]
  },
  {
   "cell_type": "code",
   "execution_count": 13,
   "metadata": {},
   "outputs": [
    {
     "data": {
      "text/html": [
       "<div>\n",
       "<style>\n",
       "    .dataframe thead tr:only-child th {\n",
       "        text-align: right;\n",
       "    }\n",
       "\n",
       "    .dataframe thead th {\n",
       "        text-align: left;\n",
       "    }\n",
       "\n",
       "    .dataframe tbody tr th {\n",
       "        vertical-align: top;\n",
       "    }\n",
       "</style>\n",
       "<table border=\"1\" class=\"dataframe\">\n",
       "  <thead>\n",
       "    <tr style=\"text-align: right;\">\n",
       "      <th></th>\n",
       "      <th>buyer_week_before</th>\n",
       "      <th>clicked_buy_before</th>\n",
       "      <th>existing_buyer</th>\n",
       "      <th>initial_fop_set</th>\n",
       "      <th>made_purchase_before</th>\n",
       "      <th>saw_cart_before</th>\n",
       "      <th>spend_usd_next_14_days</th>\n",
       "      <th>user_added_credit_card</th>\n",
       "      <th>user_added_dcb</th>\n",
       "      <th>user_added_fop</th>\n",
       "      <th>user_added_gift_card</th>\n",
       "      <th>user_added_paypal</th>\n",
       "      <th>user_id</th>\n",
       "      <th>visit_before</th>\n",
       "      <th>country</th>\n",
       "    </tr>\n",
       "  </thead>\n",
       "  <tbody>\n",
       "    <tr>\n",
       "      <th>0</th>\n",
       "      <td>0</td>\n",
       "      <td>0.0</td>\n",
       "      <td>0</td>\n",
       "      <td>False</td>\n",
       "      <td>0.0</td>\n",
       "      <td>1.0</td>\n",
       "      <td>0.000000</td>\n",
       "      <td>0.0</td>\n",
       "      <td>0.0</td>\n",
       "      <td>0</td>\n",
       "      <td>0.0</td>\n",
       "      <td>0.0</td>\n",
       "      <td>18321316048201303366</td>\n",
       "      <td>1</td>\n",
       "      <td>IN</td>\n",
       "    </tr>\n",
       "    <tr>\n",
       "      <th>1</th>\n",
       "      <td>0</td>\n",
       "      <td>0.0</td>\n",
       "      <td>0</td>\n",
       "      <td>False</td>\n",
       "      <td>0.0</td>\n",
       "      <td>1.0</td>\n",
       "      <td>0.000000</td>\n",
       "      <td>0.0</td>\n",
       "      <td>0.0</td>\n",
       "      <td>0</td>\n",
       "      <td>0.0</td>\n",
       "      <td>0.0</td>\n",
       "      <td>13705367724816913241</td>\n",
       "      <td>1</td>\n",
       "      <td>IN</td>\n",
       "    </tr>\n",
       "    <tr>\n",
       "      <th>2</th>\n",
       "      <td>0</td>\n",
       "      <td>0.0</td>\n",
       "      <td>0</td>\n",
       "      <td>False</td>\n",
       "      <td>0.0</td>\n",
       "      <td>0.0</td>\n",
       "      <td>0.000000</td>\n",
       "      <td>0.0</td>\n",
       "      <td>0.0</td>\n",
       "      <td>0</td>\n",
       "      <td>0.0</td>\n",
       "      <td>0.0</td>\n",
       "      <td>6605724765451655114</td>\n",
       "      <td>0</td>\n",
       "      <td>IN</td>\n",
       "    </tr>\n",
       "    <tr>\n",
       "      <th>3</th>\n",
       "      <td>0</td>\n",
       "      <td>1.0</td>\n",
       "      <td>1</td>\n",
       "      <td>True</td>\n",
       "      <td>1.0</td>\n",
       "      <td>1.0</td>\n",
       "      <td>7.398815</td>\n",
       "      <td>1.0</td>\n",
       "      <td>0.0</td>\n",
       "      <td>1</td>\n",
       "      <td>0.0</td>\n",
       "      <td>0.0</td>\n",
       "      <td>2340067911948261502</td>\n",
       "      <td>1</td>\n",
       "      <td>CA</td>\n",
       "    </tr>\n",
       "    <tr>\n",
       "      <th>4</th>\n",
       "      <td>7</td>\n",
       "      <td>1.0</td>\n",
       "      <td>1</td>\n",
       "      <td>True</td>\n",
       "      <td>1.0</td>\n",
       "      <td>1.0</td>\n",
       "      <td>0.000000</td>\n",
       "      <td>0.0</td>\n",
       "      <td>1.0</td>\n",
       "      <td>1</td>\n",
       "      <td>0.0</td>\n",
       "      <td>0.0</td>\n",
       "      <td>11891045596810635427</td>\n",
       "      <td>1</td>\n",
       "      <td>PL</td>\n",
       "    </tr>\n",
       "  </tbody>\n",
       "</table>\n",
       "</div>"
      ],
      "text/plain": [
       "   buyer_week_before  clicked_buy_before  existing_buyer  initial_fop_set  \\\n",
       "0                  0                 0.0               0            False   \n",
       "1                  0                 0.0               0            False   \n",
       "2                  0                 0.0               0            False   \n",
       "3                  0                 1.0               1             True   \n",
       "4                  7                 1.0               1             True   \n",
       "\n",
       "   made_purchase_before  saw_cart_before  spend_usd_next_14_days  \\\n",
       "0                   0.0              1.0                0.000000   \n",
       "1                   0.0              1.0                0.000000   \n",
       "2                   0.0              0.0                0.000000   \n",
       "3                   1.0              1.0                7.398815   \n",
       "4                   1.0              1.0                0.000000   \n",
       "\n",
       "   user_added_credit_card  user_added_dcb  user_added_fop  \\\n",
       "0                     0.0             0.0               0   \n",
       "1                     0.0             0.0               0   \n",
       "2                     0.0             0.0               0   \n",
       "3                     1.0             0.0               1   \n",
       "4                     0.0             1.0               1   \n",
       "\n",
       "   user_added_gift_card  user_added_paypal               user_id  \\\n",
       "0                   0.0                0.0  18321316048201303366   \n",
       "1                   0.0                0.0  13705367724816913241   \n",
       "2                   0.0                0.0   6605724765451655114   \n",
       "3                   0.0                0.0   2340067911948261502   \n",
       "4                   0.0                0.0  11891045596810635427   \n",
       "\n",
       "   visit_before country  \n",
       "0             1      IN  \n",
       "1             1      IN  \n",
       "2             0      IN  \n",
       "3             1      CA  \n",
       "4             1      PL  "
      ]
     },
     "execution_count": 13,
     "metadata": {},
     "output_type": "execute_result"
    }
   ],
   "source": [
    "data.head(5)"
   ]
  },
  {
   "cell_type": "code",
   "execution_count": 14,
   "metadata": {},
   "outputs": [
    {
     "data": {
      "text/plain": [
       "pandas.core.series.Series"
      ]
     },
     "execution_count": 14,
     "metadata": {},
     "output_type": "execute_result"
    }
   ],
   "source": [
    "type(data[\"spend_usd_next_14_days\"])"
   ]
  },
  {
   "cell_type": "code",
   "execution_count": 15,
   "metadata": {
    "collapsed": true
   },
   "outputs": [],
   "source": [
    "data['convert']=[0 if value== 0 else 1 for value in data[\"spend_usd_next_14_days\"]]  "
   ]
  },
  {
   "cell_type": "code",
   "execution_count": 16,
   "metadata": {},
   "outputs": [
    {
     "data": {
      "text/html": [
       "<div>\n",
       "<style>\n",
       "    .dataframe thead tr:only-child th {\n",
       "        text-align: right;\n",
       "    }\n",
       "\n",
       "    .dataframe thead th {\n",
       "        text-align: left;\n",
       "    }\n",
       "\n",
       "    .dataframe tbody tr th {\n",
       "        vertical-align: top;\n",
       "    }\n",
       "</style>\n",
       "<table border=\"1\" class=\"dataframe\">\n",
       "  <thead>\n",
       "    <tr style=\"text-align: right;\">\n",
       "      <th></th>\n",
       "      <th>buyer_week_before</th>\n",
       "      <th>clicked_buy_before</th>\n",
       "      <th>existing_buyer</th>\n",
       "      <th>initial_fop_set</th>\n",
       "      <th>made_purchase_before</th>\n",
       "      <th>saw_cart_before</th>\n",
       "      <th>spend_usd_next_14_days</th>\n",
       "      <th>user_added_credit_card</th>\n",
       "      <th>user_added_dcb</th>\n",
       "      <th>user_added_fop</th>\n",
       "      <th>user_added_gift_card</th>\n",
       "      <th>user_added_paypal</th>\n",
       "      <th>user_id</th>\n",
       "      <th>visit_before</th>\n",
       "      <th>country</th>\n",
       "      <th>convert</th>\n",
       "    </tr>\n",
       "  </thead>\n",
       "  <tbody>\n",
       "    <tr>\n",
       "      <th>0</th>\n",
       "      <td>0</td>\n",
       "      <td>0.0</td>\n",
       "      <td>0</td>\n",
       "      <td>False</td>\n",
       "      <td>0.0</td>\n",
       "      <td>1.0</td>\n",
       "      <td>0.000000</td>\n",
       "      <td>0.0</td>\n",
       "      <td>0.0</td>\n",
       "      <td>0</td>\n",
       "      <td>0.0</td>\n",
       "      <td>0.0</td>\n",
       "      <td>18321316048201303366</td>\n",
       "      <td>1</td>\n",
       "      <td>IN</td>\n",
       "      <td>0</td>\n",
       "    </tr>\n",
       "    <tr>\n",
       "      <th>1</th>\n",
       "      <td>0</td>\n",
       "      <td>0.0</td>\n",
       "      <td>0</td>\n",
       "      <td>False</td>\n",
       "      <td>0.0</td>\n",
       "      <td>1.0</td>\n",
       "      <td>0.000000</td>\n",
       "      <td>0.0</td>\n",
       "      <td>0.0</td>\n",
       "      <td>0</td>\n",
       "      <td>0.0</td>\n",
       "      <td>0.0</td>\n",
       "      <td>13705367724816913241</td>\n",
       "      <td>1</td>\n",
       "      <td>IN</td>\n",
       "      <td>0</td>\n",
       "    </tr>\n",
       "    <tr>\n",
       "      <th>2</th>\n",
       "      <td>0</td>\n",
       "      <td>0.0</td>\n",
       "      <td>0</td>\n",
       "      <td>False</td>\n",
       "      <td>0.0</td>\n",
       "      <td>0.0</td>\n",
       "      <td>0.000000</td>\n",
       "      <td>0.0</td>\n",
       "      <td>0.0</td>\n",
       "      <td>0</td>\n",
       "      <td>0.0</td>\n",
       "      <td>0.0</td>\n",
       "      <td>6605724765451655114</td>\n",
       "      <td>0</td>\n",
       "      <td>IN</td>\n",
       "      <td>0</td>\n",
       "    </tr>\n",
       "    <tr>\n",
       "      <th>3</th>\n",
       "      <td>0</td>\n",
       "      <td>1.0</td>\n",
       "      <td>1</td>\n",
       "      <td>True</td>\n",
       "      <td>1.0</td>\n",
       "      <td>1.0</td>\n",
       "      <td>7.398815</td>\n",
       "      <td>1.0</td>\n",
       "      <td>0.0</td>\n",
       "      <td>1</td>\n",
       "      <td>0.0</td>\n",
       "      <td>0.0</td>\n",
       "      <td>2340067911948261502</td>\n",
       "      <td>1</td>\n",
       "      <td>CA</td>\n",
       "      <td>1</td>\n",
       "    </tr>\n",
       "    <tr>\n",
       "      <th>4</th>\n",
       "      <td>7</td>\n",
       "      <td>1.0</td>\n",
       "      <td>1</td>\n",
       "      <td>True</td>\n",
       "      <td>1.0</td>\n",
       "      <td>1.0</td>\n",
       "      <td>0.000000</td>\n",
       "      <td>0.0</td>\n",
       "      <td>1.0</td>\n",
       "      <td>1</td>\n",
       "      <td>0.0</td>\n",
       "      <td>0.0</td>\n",
       "      <td>11891045596810635427</td>\n",
       "      <td>1</td>\n",
       "      <td>PL</td>\n",
       "      <td>0</td>\n",
       "    </tr>\n",
       "  </tbody>\n",
       "</table>\n",
       "</div>"
      ],
      "text/plain": [
       "   buyer_week_before  clicked_buy_before  existing_buyer  initial_fop_set  \\\n",
       "0                  0                 0.0               0            False   \n",
       "1                  0                 0.0               0            False   \n",
       "2                  0                 0.0               0            False   \n",
       "3                  0                 1.0               1             True   \n",
       "4                  7                 1.0               1             True   \n",
       "\n",
       "   made_purchase_before  saw_cart_before  spend_usd_next_14_days  \\\n",
       "0                   0.0              1.0                0.000000   \n",
       "1                   0.0              1.0                0.000000   \n",
       "2                   0.0              0.0                0.000000   \n",
       "3                   1.0              1.0                7.398815   \n",
       "4                   1.0              1.0                0.000000   \n",
       "\n",
       "   user_added_credit_card  user_added_dcb  user_added_fop  \\\n",
       "0                     0.0             0.0               0   \n",
       "1                     0.0             0.0               0   \n",
       "2                     0.0             0.0               0   \n",
       "3                     1.0             0.0               1   \n",
       "4                     0.0             1.0               1   \n",
       "\n",
       "   user_added_gift_card  user_added_paypal               user_id  \\\n",
       "0                   0.0                0.0  18321316048201303366   \n",
       "1                   0.0                0.0  13705367724816913241   \n",
       "2                   0.0                0.0   6605724765451655114   \n",
       "3                   0.0                0.0   2340067911948261502   \n",
       "4                   0.0                0.0  11891045596810635427   \n",
       "\n",
       "   visit_before country  convert  \n",
       "0             1      IN        0  \n",
       "1             1      IN        0  \n",
       "2             0      IN        0  \n",
       "3             1      CA        1  \n",
       "4             1      PL        0  "
      ]
     },
     "execution_count": 16,
     "metadata": {},
     "output_type": "execute_result"
    }
   ],
   "source": [
    "data.head(5)"
   ]
  },
  {
   "cell_type": "code",
   "execution_count": 17,
   "metadata": {
    "collapsed": true
   },
   "outputs": [],
   "source": [
    "### covert rate for different situations"
   ]
  },
  {
   "cell_type": "code",
   "execution_count": 18,
   "metadata": {
    "collapsed": true
   },
   "outputs": [],
   "source": [
    "def convert_rate(a,name):\n",
    "    nconvert=data['convert'][a]\n",
    "    n=nconvert.value_counts()\n",
    "    a=float(n[1])\n",
    "    b=float(n[0])\n",
    "    name=round(a/(a+b),4)\n",
    "    return name"
   ]
  },
  {
   "cell_type": "code",
   "execution_count": 19,
   "metadata": {
    "collapsed": true
   },
   "outputs": [],
   "source": [
    "# convert rate for no visit users\n",
    "convert_rate_novisit=convert_rate((data.visit_before==0)&(data.saw_cart_before==0)&(data.clicked_buy_before==0),name='convert_rate_novisit')\n",
    "\n",
    "# convert rate for no cart users\n",
    "convert_rate_nocart=convert_rate((data.saw_cart_before==0)&(data.clicked_buy_before==0),name='onvert_rate_nocart')\n",
    "\n",
    "# convert rate for saw cart but not clicked buy users\n",
    "convert_rate_sawcart=convert_rate((data.saw_cart_before==1)&(data.clicked_buy_before==0),name='convert_rate_sawcart')\n",
    "\n",
    "# convert rate for clicked buy users\n",
    "convert_rate_click=convert_rate((data.visit_before==1)&(data.saw_cart_before==1)&(data.clicked_buy_before==1),name='convert_rate_click')"
   ]
  },
  {
   "cell_type": "code",
   "execution_count": 20,
   "metadata": {},
   "outputs": [
    {
     "data": {
      "text/plain": [
       "<Container object of 4 artists>"
      ]
     },
     "execution_count": 20,
     "metadata": {},
     "output_type": "execute_result"
    },
    {
     "data": {
      "text/plain": [
       "([<matplotlib.axis.XTick at 0x10e4fcb50>,\n",
       "  <matplotlib.axis.XTick at 0x1a13c72210>,\n",
       "  <matplotlib.axis.XTick at 0x111097a10>,\n",
       "  <matplotlib.axis.XTick at 0x1110a9b50>],\n",
       " <a list of 4 Text xticklabel objects>)"
      ]
     },
     "execution_count": 20,
     "metadata": {},
     "output_type": "execute_result"
    },
    {
     "data": {
      "text/plain": [
       "Text(0.5,1,u'Conversion')"
      ]
     },
     "execution_count": 20,
     "metadata": {},
     "output_type": "execute_result"
    },
    {
     "data": {
      "text/plain": [
       "Text(0,0.5,u'Conversion rate')"
      ]
     },
     "execution_count": 20,
     "metadata": {},
     "output_type": "execute_result"
    },
    {
     "data": {
      "image/png": "[encoded data removed]",
      "text/plain": [
       "<matplotlib.figure.Figure at 0x10e76c190>"
      ]
     },
     "metadata": {},
     "output_type": "display_data"
    }
   ],
   "source": [
    "x=np.arange(4)\n",
    "y=[convert_rate_novisit,convert_rate_nocart,convert_rate_sawcart, convert_rate_click]\n",
    "fig, ax = plt.subplots()\n",
    "plt.bar(x, y)\n",
    "plt.xticks(x, ('no visit', 'no cart', 'saw cart', 'click buy'))\n",
    "ax.set_title(\"Conversion\")\n",
    "ax.set_ylabel('Conversion rate')\n",
    "ax.yaxis.grid(linestyle='-',linewidth=0.3)\n",
    "\n",
    "plt.show()"
   ]
  },
  {
   "cell_type": "code",
   "execution_count": 21,
   "metadata": {
    "collapsed": true
   },
   "outputs": [],
   "source": [
    "def convert_rate0(initial,credit,dcb,paypal,gift):\n",
    "    nconvert=data['convert'][(data.initial_fop_set==initial)&(data.user_added_credit_card==credit)&\n",
    "             (data.user_added_dcb==dcb)&(data.user_added_paypal==paypal)&\n",
    "             (data.user_added_gift_card==gift)]\n",
    "    n=nconvert.value_counts()\n",
    "    a=float(n[1])\n",
    "    b=float(n[0])\n",
    "    return round(a/(a+b),4)"
   ]
  },
  {
   "cell_type": "code",
   "execution_count": 22,
   "metadata": {},
   "outputs": [
    {
     "data": {
      "text/html": [
       "<div>\n",
       "<style>\n",
       "    .dataframe thead tr:only-child th {\n",
       "        text-align: right;\n",
       "    }\n",
       "\n",
       "    .dataframe thead th {\n",
       "        text-align: left;\n",
       "    }\n",
       "\n",
       "    .dataframe tbody tr th {\n",
       "        vertical-align: top;\n",
       "    }\n",
       "</style>\n",
       "<table border=\"1\" class=\"dataframe\">\n",
       "  <thead>\n",
       "    <tr style=\"text-align: right;\">\n",
       "      <th></th>\n",
       "      <th>buyer_week_before</th>\n",
       "      <th>clicked_buy_before</th>\n",
       "      <th>existing_buyer</th>\n",
       "      <th>initial_fop_set</th>\n",
       "      <th>made_purchase_before</th>\n",
       "      <th>saw_cart_before</th>\n",
       "      <th>spend_usd_next_14_days</th>\n",
       "      <th>user_added_credit_card</th>\n",
       "      <th>user_added_dcb</th>\n",
       "      <th>user_added_fop</th>\n",
       "      <th>user_added_gift_card</th>\n",
       "      <th>user_added_paypal</th>\n",
       "      <th>user_id</th>\n",
       "      <th>visit_before</th>\n",
       "      <th>country</th>\n",
       "      <th>convert</th>\n",
       "    </tr>\n",
       "  </thead>\n",
       "  <tbody>\n",
       "    <tr>\n",
       "      <th>0</th>\n",
       "      <td>0</td>\n",
       "      <td>0.0</td>\n",
       "      <td>0</td>\n",
       "      <td>False</td>\n",
       "      <td>0.0</td>\n",
       "      <td>1.0</td>\n",
       "      <td>0.000000</td>\n",
       "      <td>0.0</td>\n",
       "      <td>0.0</td>\n",
       "      <td>0</td>\n",
       "      <td>0.0</td>\n",
       "      <td>0.0</td>\n",
       "      <td>18321316048201303366</td>\n",
       "      <td>1</td>\n",
       "      <td>IN</td>\n",
       "      <td>0</td>\n",
       "    </tr>\n",
       "    <tr>\n",
       "      <th>1</th>\n",
       "      <td>0</td>\n",
       "      <td>0.0</td>\n",
       "      <td>0</td>\n",
       "      <td>False</td>\n",
       "      <td>0.0</td>\n",
       "      <td>1.0</td>\n",
       "      <td>0.000000</td>\n",
       "      <td>0.0</td>\n",
       "      <td>0.0</td>\n",
       "      <td>0</td>\n",
       "      <td>0.0</td>\n",
       "      <td>0.0</td>\n",
       "      <td>13705367724816913241</td>\n",
       "      <td>1</td>\n",
       "      <td>IN</td>\n",
       "      <td>0</td>\n",
       "    </tr>\n",
       "    <tr>\n",
       "      <th>2</th>\n",
       "      <td>0</td>\n",
       "      <td>0.0</td>\n",
       "      <td>0</td>\n",
       "      <td>False</td>\n",
       "      <td>0.0</td>\n",
       "      <td>0.0</td>\n",
       "      <td>0.000000</td>\n",
       "      <td>0.0</td>\n",
       "      <td>0.0</td>\n",
       "      <td>0</td>\n",
       "      <td>0.0</td>\n",
       "      <td>0.0</td>\n",
       "      <td>6605724765451655114</td>\n",
       "      <td>0</td>\n",
       "      <td>IN</td>\n",
       "      <td>0</td>\n",
       "    </tr>\n",
       "    <tr>\n",
       "      <th>3</th>\n",
       "      <td>0</td>\n",
       "      <td>1.0</td>\n",
       "      <td>1</td>\n",
       "      <td>True</td>\n",
       "      <td>1.0</td>\n",
       "      <td>1.0</td>\n",
       "      <td>7.398815</td>\n",
       "      <td>1.0</td>\n",
       "      <td>0.0</td>\n",
       "      <td>1</td>\n",
       "      <td>0.0</td>\n",
       "      <td>0.0</td>\n",
       "      <td>2340067911948261502</td>\n",
       "      <td>1</td>\n",
       "      <td>CA</td>\n",
       "      <td>1</td>\n",
       "    </tr>\n",
       "    <tr>\n",
       "      <th>4</th>\n",
       "      <td>7</td>\n",
       "      <td>1.0</td>\n",
       "      <td>1</td>\n",
       "      <td>True</td>\n",
       "      <td>1.0</td>\n",
       "      <td>1.0</td>\n",
       "      <td>0.000000</td>\n",
       "      <td>0.0</td>\n",
       "      <td>1.0</td>\n",
       "      <td>1</td>\n",
       "      <td>0.0</td>\n",
       "      <td>0.0</td>\n",
       "      <td>11891045596810635427</td>\n",
       "      <td>1</td>\n",
       "      <td>PL</td>\n",
       "      <td>0</td>\n",
       "    </tr>\n",
       "  </tbody>\n",
       "</table>\n",
       "</div>"
      ],
      "text/plain": [
       "   buyer_week_before  clicked_buy_before  existing_buyer  initial_fop_set  \\\n",
       "0                  0                 0.0               0            False   \n",
       "1                  0                 0.0               0            False   \n",
       "2                  0                 0.0               0            False   \n",
       "3                  0                 1.0               1             True   \n",
       "4                  7                 1.0               1             True   \n",
       "\n",
       "   made_purchase_before  saw_cart_before  spend_usd_next_14_days  \\\n",
       "0                   0.0              1.0                0.000000   \n",
       "1                   0.0              1.0                0.000000   \n",
       "2                   0.0              0.0                0.000000   \n",
       "3                   1.0              1.0                7.398815   \n",
       "4                   1.0              1.0                0.000000   \n",
       "\n",
       "   user_added_credit_card  user_added_dcb  user_added_fop  \\\n",
       "0                     0.0             0.0               0   \n",
       "1                     0.0             0.0               0   \n",
       "2                     0.0             0.0               0   \n",
       "3                     1.0             0.0               1   \n",
       "4                     0.0             1.0               1   \n",
       "\n",
       "   user_added_gift_card  user_added_paypal               user_id  \\\n",
       "0                   0.0                0.0  18321316048201303366   \n",
       "1                   0.0                0.0  13705367724816913241   \n",
       "2                   0.0                0.0   6605724765451655114   \n",
       "3                   0.0                0.0   2340067911948261502   \n",
       "4                   0.0                0.0  11891045596810635427   \n",
       "\n",
       "   visit_before country  convert  \n",
       "0             1      IN        0  \n",
       "1             1      IN        0  \n",
       "2             0      IN        0  \n",
       "3             1      CA        1  \n",
       "4             1      PL        0  "
      ]
     },
     "execution_count": 22,
     "metadata": {},
     "output_type": "execute_result"
    }
   ],
   "source": [
    "data.head(5)"
   ]
  },
  {
   "cell_type": "code",
   "execution_count": 23,
   "metadata": {},
   "outputs": [
    {
     "name": "stdout",
     "output_type": "stream",
     "text": [
      "(0.4599, 0.3906, 0.4247, 0.4454)\n"
     ]
    }
   ],
   "source": [
    "convert_creditcard0=convert_rate0(True,1,0,0,0)\n",
    "convert_dcb0=convert_rate0(True,0,1,0,0)\n",
    "convert_paypal0=convert_rate0(True,0,0,1,0)\n",
    "convert_giftcard0=convert_rate0(True,0,0,0,1)\n",
    "print (convert_creditcard0,convert_dcb0,convert_paypal0, convert_giftcard0)"
   ]
  },
  {
   "cell_type": "code",
   "execution_count": 24,
   "metadata": {},
   "outputs": [
    {
     "name": "stdout",
     "output_type": "stream",
     "text": [
      "(0.6791, 0.8238, 0.6203)\n"
     ]
    }
   ],
   "source": [
    "# each payment with gift card\n",
    "convert_creditgift0=convert_rate0(True,1,0,0,1)\n",
    "convert_dcbgift0=convert_rate0(True,0,1,0,1)\n",
    "convert_paypalgift0=convert_rate0(True,0,0,1,1)\n",
    "\n",
    "print (convert_creditgift0,convert_dcbgift0,convert_paypalgift0)"
   ]
  },
  {
   "cell_type": "code",
   "execution_count": 25,
   "metadata": {},
   "outputs": [
    {
     "data": {
      "text/plain": [
       "[Text(0,0,u'0.0%'),\n",
       " Text(0,0,u'10.0%'),\n",
       " Text(0,0,u'20.0%'),\n",
       " Text(0,0,u'30.0%'),\n",
       " Text(0,0,u'40.0%'),\n",
       " Text(0,0,u'50.0%'),\n",
       " Text(0,0,u'60.0%'),\n",
       " Text(0,0,u'70.0%'),\n",
       " Text(0,0,u'80.0%'),\n",
       " Text(0,0,u'90.0%')]"
      ]
     },
     "execution_count": 25,
     "metadata": {},
     "output_type": "execute_result"
    },
    {
     "data": {
      "text/plain": [
       "Text(0,0.5,u'Conversion')"
      ]
     },
     "execution_count": 25,
     "metadata": {},
     "output_type": "execute_result"
    },
    {
     "data": {
      "text/plain": [
       "[<matplotlib.axis.XTick at 0x1a13f8ed10>,\n",
       " <matplotlib.axis.XTick at 0x1a13f8ecd0>,\n",
       " <matplotlib.axis.XTick at 0x1a13ff3c50>,\n",
       " <matplotlib.axis.XTick at 0x1a13fe6e10>]"
      ]
     },
     "execution_count": 25,
     "metadata": {},
     "output_type": "execute_result"
    },
    {
     "data": {
      "text/plain": [
       "[Text(0,0,u'Credit card'),\n",
       " Text(0,0,u'Direct carrier billing'),\n",
       " Text(0,0,u'PayPal'),\n",
       " Text(0,0,u'Gift card')]"
      ]
     },
     "execution_count": 25,
     "metadata": {},
     "output_type": "execute_result"
    },
    {
     "data": {
      "text/plain": [
       "<matplotlib.legend.Legend at 0x1a13f8e150>"
      ]
     },
     "execution_count": 25,
     "metadata": {},
     "output_type": "execute_result"
    },
    {
     "data": {
      "text/plain": [
       "Text(0.5,1,u'Conversion')"
      ]
     },
     "execution_count": 25,
     "metadata": {},
     "output_type": "execute_result"
    },
    {
     "data": {
      "image/png": "[encoded data removed]",
      "text/plain": [
       "<matplotlib.figure.Figure at 0x1a13f65a50>"
      ]
     },
     "metadata": {},
     "output_type": "display_data"
    }
   ],
   "source": [
    "# plot\n",
    "ind=np.arange(4)\n",
    "width=0.27\n",
    "\n",
    "fig =plt.figure()\n",
    "ax=fig.add_subplot(111)\n",
    "\n",
    "\n",
    "yvals=[convert_creditcard0,convert_dcb0,convert_paypal0, convert_giftcard0]\n",
    "rect1=ax.bar(ind,yvals,width,color='r')\n",
    "zvals=[convert_creditgift0,convert_dcbgift0,convert_paypalgift0,0]\n",
    "rect2=ax.bar(ind+width*1,zvals,width,color='b')\n",
    "\n",
    "vals=ax.get_yticks()\n",
    "ax.set_yticklabels(['{:.1%}'.format(x) for x in vals])\n",
    "ax.set_ylabel('Conversion')\n",
    "ax.set_xticks(ind+width)\n",
    "ax.set_xticklabels(('Credit card', 'Direct carrier billing', 'PayPal', 'Gift card'))\n",
    "\n",
    "ax.yaxis.grid(linestyle='-',linewidth=0.3)\n",
    "\n",
    "ax.legend((rect1[0],rect2[0]),('single payment','added giftcard'))\n",
    "ax.set_title(\"Conversion\")\n",
    "\n",
    "def autolabel(rects):\n",
    "    for rect in rects:\n",
    "        h=rect.get_height()\n",
    "        ax.text(rect.get_x()+rect.get_width()/2.,h,'{:.1%}'.format(h),ha='center',va='bottom')                   \n",
    "                   \n",
    "autolabel(rect1)\n",
    "autolabel(rect2)\n",
    "\n",
    "plt.show() \n"
   ]
  },
  {
   "cell_type": "code",
   "execution_count": 26,
   "metadata": {
    "collapsed": true
   },
   "outputs": [],
   "source": [
    "## Average spend for different payment\n",
    "def ave_spend(initial,credit,dcb,paypal,gift):\n",
    "    nave=round(data['spend_usd_next_14_days'][(data.initial_fop_set==initial)&(data.user_added_credit_card==credit)&\n",
    "             (data.user_added_dcb==dcb)&(data.user_added_paypal==paypal)&\n",
    "             (data.user_added_gift_card==gift)].mean(),2)\n",
    "   \n",
    "    return nave"
   ]
  },
  {
   "cell_type": "code",
   "execution_count": 27,
   "metadata": {},
   "outputs": [
    {
     "name": "stdout",
     "output_type": "stream",
     "text": [
      "(27.46, 14.35, 18.53, 20.9)\n"
     ]
    }
   ],
   "source": [
    "\n",
    "ave_creditcard=ave_spend(True,1,0,0,0)\n",
    "ave_dcb=ave_spend(True,0,1,0,0)\n",
    "ave_paypal=ave_spend(True,0,0,1,0)\n",
    "ave_giftcard=ave_spend(True,0,0,0,1)\n",
    "\n",
    "print (ave_creditcard,ave_dcb,ave_paypal,ave_giftcard)"
   ]
  },
  {
   "cell_type": "code",
   "execution_count": 28,
   "metadata": {},
   "outputs": [
    {
     "name": "stdout",
     "output_type": "stream",
     "text": [
      "(54.31, 100.18, 33.49)\n"
     ]
    }
   ],
   "source": [
    " # average spend for one payment added giftcard\n",
    "ave_creditgift=ave_spend(True,1,0,0,1)\n",
    "ave_dcbgift=ave_spend(True,0,1,0,1)\n",
    "ave_paypalgift=ave_spend(True,0,0,1,1)\n",
    "\n",
    "\n",
    "print (ave_creditgift,ave_dcbgift,ave_paypalgift)"
   ]
  },
  {
   "cell_type": "code",
   "execution_count": 29,
   "metadata": {},
   "outputs": [
    {
     "data": {
      "text/plain": [
       "Text(0.5,1,u'Average Spend')"
      ]
     },
     "execution_count": 29,
     "metadata": {},
     "output_type": "execute_result"
    },
    {
     "data": {
      "text/plain": [
       "Text(0,0.5,u'Average spend')"
      ]
     },
     "execution_count": 29,
     "metadata": {},
     "output_type": "execute_result"
    },
    {
     "data": {
      "text/plain": [
       "[<matplotlib.axis.XTick at 0x10e7885d0>,\n",
       " <matplotlib.axis.XTick at 0x1a14758090>,\n",
       " <matplotlib.axis.XTick at 0x1a147b0bd0>,\n",
       " <matplotlib.axis.XTick at 0x1a147c8f10>]"
      ]
     },
     "execution_count": 29,
     "metadata": {},
     "output_type": "execute_result"
    },
    {
     "data": {
      "text/plain": [
       "[Text(0,0,u'Credit card'),\n",
       " Text(0,0,u'Direct carrier billing'),\n",
       " Text(0,0,u'PayPal'),\n",
       " Text(0,0,u'Gift card')]"
      ]
     },
     "execution_count": 29,
     "metadata": {},
     "output_type": "execute_result"
    },
    {
     "data": {
      "text/plain": [
       "<matplotlib.legend.Legend at 0x1a147b0c10>"
      ]
     },
     "execution_count": 29,
     "metadata": {},
     "output_type": "execute_result"
    },
    {
     "data": {
      "image/png": "[encoded data removed]",
      "text/plain": [
       "<matplotlib.figure.Figure at 0x1a1401f390>"
      ]
     },
     "metadata": {},
     "output_type": "display_data"
    }
   ],
   "source": [
    "#plot\n",
    "# plot\n",
    "ind=np.arange(4)\n",
    "width=0.27\n",
    "\n",
    "fig =plt.figure()\n",
    "ax=fig.add_subplot(111)\n",
    "\n",
    "\n",
    "yvals=[ave_creditcard,ave_dcb,ave_paypal,ave_giftcard]\n",
    "rect1=ax.bar(ind,yvals,width,color='r')\n",
    "zvals=[ave_creditgift,ave_dcbgift,ave_paypalgift,0]\n",
    "rect2=ax.bar(ind+width*1,zvals,width,color='b')\n",
    "\n",
    "ax.set_title(\"Average Spend\")\n",
    "ax.set_ylabel('Average spend')\n",
    "ax.set_xticks(ind+width)\n",
    "ax.set_xticklabels(('Credit card', 'Direct carrier billing', 'PayPal', 'Gift card'))\n",
    "\n",
    "ax.yaxis.grid(linestyle='-',linewidth=0.3)\n",
    "\n",
    "ax.legend((rect1[0],rect2[0]),('single payment','added giftcard'))\n",
    "\n",
    "def autolabel(rects):\n",
    "    for rect in rects:\n",
    "        h=rect.get_height()\n",
    "        ax.text(rect.get_x()+rect.get_width()/2.,1*h,'%d'%h,ha='center',va='bottom')                   \n",
    "                   \n",
    "autolabel(rect1)\n",
    "autolabel(rect2)\n",
    "\n",
    "plt.show() "
   ]
  },
  {
   "cell_type": "code",
   "execution_count": 30,
   "metadata": {
    "collapsed": true
   },
   "outputs": [],
   "source": [
    "#### for some special countries"
   ]
  },
  {
   "cell_type": "code",
   "execution_count": 31,
   "metadata": {},
   "outputs": [
    {
     "data": {
      "text/plain": [
       "IN    71023\n",
       "US    66011\n",
       "ID    39204\n",
       "BR    36341\n",
       "RU    23618\n",
       "JP    18916\n",
       "TR    17562\n",
       "MX    15626\n",
       "KR    13950\n",
       "VN    13686\n",
       "Name: country, dtype: int64"
      ]
     },
     "execution_count": 31,
     "metadata": {},
     "output_type": "execute_result"
    }
   ],
   "source": [
    "data[\"country\"].value_counts().sort_values(ascending =False).head(10)"
   ]
  },
  {
   "cell_type": "code",
   "execution_count": 32,
   "metadata": {},
   "outputs": [
    {
     "data": {
      "text/plain": [
       "pandas.core.series.Series"
      ]
     },
     "execution_count": 32,
     "metadata": {},
     "output_type": "execute_result"
    }
   ],
   "source": [
    "type(data.country)"
   ]
  },
  {
   "cell_type": "code",
   "execution_count": 33,
   "metadata": {
    "collapsed": true
   },
   "outputs": [],
   "source": [
    "# Let's see two countries which has most values: IN and US"
   ]
  },
  {
   "cell_type": "code",
   "execution_count": 34,
   "metadata": {
    "collapsed": true
   },
   "outputs": [],
   "source": [
    "def convert_rate(initial,credit,dcb,paypal,gift,country1,country2):\n",
    "    nconvert=data['convert'][(data.initial_fop_set==initial)&(data.user_added_credit_card==credit)&\n",
    "             (data.user_added_dcb==dcb)&(data.user_added_paypal==paypal)&\n",
    "             (data.user_added_gift_card==gift)&((data.country==country1)|(data.country==country2))]\n",
    "    n=nconvert.value_counts()\n",
    "    a=float(n[1])\n",
    "    b=float(n[0])\n",
    "    return round(a/(a+b),4)\n",
    "     "
   ]
  },
  {
   "cell_type": "code",
   "execution_count": 35,
   "metadata": {},
   "outputs": [
    {
     "name": "stdout",
     "output_type": "stream",
     "text": [
      "(0.4778, 0.2254, 0.4108, 0.3631)\n",
      "(0.6735, 0.4941, 0.6119)\n"
     ]
    }
   ],
   "source": [
    "# for IN and US:\n",
    "convert_creditcard=convert_rate(True,1,0,0,0,'IN','US')\n",
    "convert_dcb=convert_rate(True,0,1,0,0,'IN','US')\n",
    "convert_paypal=convert_rate(True,0,0,1,0,'IN','US')\n",
    "convert_giftcard=convert_rate(True,0,0,0,1,'IN','US')\n",
    "print (convert_creditcard,convert_dcb,convert_paypal,convert_giftcard)\n",
    "\n",
    "convert_creditgift=convert_rate(True,1,0,0,1,'IN','US')\n",
    "convert_dcbgift=convert_rate(True,0,1,0,1,'IN','US')\n",
    "convert_paypalgift=convert_rate(True,0,0,1,1,'IN','US')\n",
    "print (convert_creditgift,convert_dcbgift,convert_paypalgift)\n"
   ]
  },
  {
   "cell_type": "code",
   "execution_count": 36,
   "metadata": {},
   "outputs": [
    {
     "data": {
      "text/plain": [
       "[Text(0,0,u'0.0%'),\n",
       " Text(0,0,u'10.0%'),\n",
       " Text(0,0,u'20.0%'),\n",
       " Text(0,0,u'30.0%'),\n",
       " Text(0,0,u'40.0%'),\n",
       " Text(0,0,u'50.0%'),\n",
       " Text(0,0,u'60.0%'),\n",
       " Text(0,0,u'70.0%'),\n",
       " Text(0,0,u'80.0%')]"
      ]
     },
     "execution_count": 36,
     "metadata": {},
     "output_type": "execute_result"
    },
    {
     "data": {
      "text/plain": [
       "Text(0,0.5,u'Conversion for country IN and US')"
      ]
     },
     "execution_count": 36,
     "metadata": {},
     "output_type": "execute_result"
    },
    {
     "data": {
      "text/plain": [
       "[<matplotlib.axis.XTick at 0x1a14c606d0>,\n",
       " <matplotlib.axis.XTick at 0x1a14c60610>,\n",
       " <matplotlib.axis.XTick at 0x1a14d45d90>,\n",
       " <matplotlib.axis.XTick at 0x1a14d45350>]"
      ]
     },
     "execution_count": 36,
     "metadata": {},
     "output_type": "execute_result"
    },
    {
     "data": {
      "text/plain": [
       "[Text(0,0,u'Credit card'),\n",
       " Text(0,0,u'Direct carrier billing'),\n",
       " Text(0,0,u'PayPal'),\n",
       " Text(0,0,u'Gift card')]"
      ]
     },
     "execution_count": 36,
     "metadata": {},
     "output_type": "execute_result"
    },
    {
     "data": {
      "text/plain": [
       "<matplotlib.legend.Legend at 0x1a14ca7090>"
      ]
     },
     "execution_count": 36,
     "metadata": {},
     "output_type": "execute_result"
    },
    {
     "data": {
      "text/plain": [
       "Text(0.5,1,u'Conversion')"
      ]
     },
     "execution_count": 36,
     "metadata": {},
     "output_type": "execute_result"
    },
    {
     "data": {
      "image/png": "[encoded data removed]",
      "text/plain": [
       "<matplotlib.figure.Figure at 0x1a14c3dd90>"
      ]
     },
     "metadata": {},
     "output_type": "display_data"
    }
   ],
   "source": [
    "# plot\n",
    "ind=np.arange(4)\n",
    "width=0.27\n",
    "\n",
    "fig =plt.figure()\n",
    "ax=fig.add_subplot(111)\n",
    "\n",
    "zvals=[convert_creditgift,convert_dcbgift,convert_paypalgift,0]\n",
    "rect2=ax.bar(ind+width*1,zvals,width,color='b')\n",
    "yvals=[convert_creditcard,convert_dcb,convert_paypal,convert_giftcard]\n",
    "rect1=ax.bar(ind,yvals,width,color='r')\n",
    "\n",
    "\n",
    "vals=ax.get_yticks()\n",
    "ax.set_yticklabels(['{:.1%}'.format(x) for x in vals])\n",
    "ax.set_ylabel('Conversion for country IN and US')\n",
    "ax.set_xticks(ind+width)\n",
    "ax.set_xticklabels(('Credit card', 'Direct carrier billing', 'PayPal', 'Gift card'))\n",
    "\n",
    "ax.yaxis.grid(linestyle='-',linewidth=0.3)\n",
    "\n",
    "ax.legend((rect2[0],rect1[0]),('single payment','added giftcard'))\n",
    "plt.legend(alpha=0.1)\n",
    "ax.set_title(\"Conversion\")\n",
    "\n",
    "def autolabel(rects):\n",
    "    for rect in rects:\n",
    "        h=rect.get_height()\n",
    "        ax.text(rect.get_x()+rect.get_width()/2.,h,'{:.1%}'.format(h),ha='center',va='bottom')                   \n",
    "                   \n",
    "autolabel(rect1)\n",
    "autolabel(rect2)\n",
    "\n",
    "plt.show()"
   ]
  },
  {
   "cell_type": "code",
   "execution_count": 37,
   "metadata": {
    "collapsed": true
   },
   "outputs": [],
   "source": [
    "# only to consider US"
   ]
  },
  {
   "cell_type": "code",
   "execution_count": 38,
   "metadata": {
    "collapsed": true
   },
   "outputs": [],
   "source": [
    "def convert_rate(initial,credit,dcb,paypal,gift,country1):\n",
    "    nconvert=data['convert'][(data.initial_fop_set==initial)&(data.user_added_credit_card==credit)&\n",
    "             (data.user_added_dcb==dcb)&(data.user_added_paypal==paypal)&\n",
    "             (data.user_added_gift_card==gift)&(data.country==country1)]\n",
    "    n=nconvert.value_counts()\n",
    "    a=float(n[1])\n",
    "    b=float(n[0])\n",
    "    return round(a/(a+b),4)\n",
    "     "
   ]
  },
  {
   "cell_type": "code",
   "execution_count": 39,
   "metadata": {},
   "outputs": [
    {
     "name": "stdout",
     "output_type": "stream",
     "text": [
      "(0.4939, 0.2329, 0.4113, 0.3596)\n",
      "(0.6749, 0.4908, 0.6119)\n"
     ]
    }
   ],
   "source": [
    "# for IN and US:\n",
    "convert_creditcard1=convert_rate(True,1,0,0,0,'US')\n",
    "convert_dcb1=convert_rate(True,0,1,0,0,'US')\n",
    "convert_paypal1=convert_rate(True,0,0,1,0,'US')\n",
    "convert_giftcard1=convert_rate(True,0,0,0,1,'US')\n",
    "print (convert_creditcard1,convert_dcb1,convert_paypal1,convert_giftcard1)\n",
    "\n",
    "convert_creditgift1=convert_rate(True,1,0,0,1,'US')\n",
    "convert_dcbgift1=convert_rate(True,0,1,0,1,'US')\n",
    "convert_paypalgift1=convert_rate(True,0,0,1,1,'US')\n",
    "print (convert_creditgift1,convert_dcbgift1,convert_paypalgift1)"
   ]
  },
  {
   "cell_type": "code",
   "execution_count": 40,
   "metadata": {},
   "outputs": [
    {
     "data": {
      "text/plain": [
       "[Text(0,0,u'0.0%'),\n",
       " Text(0,0,u'10.0%'),\n",
       " Text(0,0,u'20.0%'),\n",
       " Text(0,0,u'30.0%'),\n",
       " Text(0,0,u'40.0%'),\n",
       " Text(0,0,u'50.0%'),\n",
       " Text(0,0,u'60.0%'),\n",
       " Text(0,0,u'70.0%'),\n",
       " Text(0,0,u'80.0%')]"
      ]
     },
     "execution_count": 40,
     "metadata": {},
     "output_type": "execute_result"
    },
    {
     "data": {
      "text/plain": [
       "Text(0,0.5,u'Conversion for country IN and US')"
      ]
     },
     "execution_count": 40,
     "metadata": {},
     "output_type": "execute_result"
    },
    {
     "data": {
      "text/plain": [
       "[<matplotlib.axis.XTick at 0x10e76c710>,\n",
       " <matplotlib.axis.XTick at 0x1a14ce8390>,\n",
       " <matplotlib.axis.XTick at 0x1a142a6f90>,\n",
       " <matplotlib.axis.XTick at 0x1a1429cbd0>]"
      ]
     },
     "execution_count": 40,
     "metadata": {},
     "output_type": "execute_result"
    },
    {
     "data": {
      "text/plain": [
       "[Text(0,0,u'Credit card'),\n",
       " Text(0,0,u'Direct carrier billing'),\n",
       " Text(0,0,u'PayPal'),\n",
       " Text(0,0,u'Gift card')]"
      ]
     },
     "execution_count": 40,
     "metadata": {},
     "output_type": "execute_result"
    },
    {
     "data": {
      "text/plain": [
       "<matplotlib.legend.Legend at 0x1a14ce83d0>"
      ]
     },
     "execution_count": 40,
     "metadata": {},
     "output_type": "execute_result"
    },
    {
     "data": {
      "text/plain": [
       "Text(0.5,1,u'Conversion')"
      ]
     },
     "execution_count": 40,
     "metadata": {},
     "output_type": "execute_result"
    },
    {
     "data": {
      "image/png": "[encoded data removed]",
      "text/plain": [
       "<matplotlib.figure.Figure at 0x1a13f98590>"
      ]
     },
     "metadata": {},
     "output_type": "display_data"
    }
   ],
   "source": [
    "# plot\n",
    "\n",
    "ind=np.arange(4)\n",
    "width=0.27\n",
    "\n",
    "fig =plt.figure()\n",
    "ax=fig.add_subplot(111)\n",
    "\n",
    "zvals=[convert_creditgift1,convert_dcbgift1,convert_paypalgift1,0]\n",
    "rect2=ax.bar(ind+width*1,zvals,width,color='b')\n",
    "yvals=[convert_creditcard1,convert_dcb1,convert_paypal1,convert_giftcard1]\n",
    "rect1=ax.bar(ind,yvals,width,color='r')\n",
    "\n",
    "\n",
    "vals=ax.get_yticks()\n",
    "ax.set_yticklabels(['{:.1%}'.format(x) for x in vals])\n",
    "ax.set_ylabel('Conversion for country IN and US')\n",
    "ax.set_xticks(ind+width)\n",
    "ax.set_xticklabels(('Credit card', 'Direct carrier billing', 'PayPal', 'Gift card'))\n",
    "\n",
    "ax.yaxis.grid(linestyle='-',linewidth=0.3)\n",
    "\n",
    "ax.legend((rect2[0],rect1[0]),('single payment','added giftcard'))\n",
    "plt.legend(alpha=0.1)\n",
    "ax.set_title(\"Conversion\")\n",
    "\n",
    "def autolabel(rects):\n",
    "    for rect in rects:\n",
    "        h=rect.get_height()\n",
    "        ax.text(rect.get_x()+rect.get_width()/2.,h,'{:.1%}'.format(h),ha='center',va='bottom')                   \n",
    "\n",
    "autolabel(rect1)\n",
    "autolabel(rect2)\n",
    "\n",
    "plt.show()"
   ]
  },
  {
   "cell_type": "code",
   "execution_count": null,
   "metadata": {
    "collapsed": true
   },
   "outputs": [],
   "source": []
  }
 ],
 "metadata": {
  "kernelspec": {
   "display_name": "Python 2",
   "language": "python",
   "name": "python2"
  },
  "language_info": {
   "codemirror_mode": {
    "name": "ipython",
    "version": 2
   },
   "file_extension": ".py",
   "mimetype": "text/x-python",
   "name": "python",
   "nbconvert_exporter": "python",
   "pygments_lexer": "ipython2",
   "version": "2.7.14"
  }
 },
 "nbformat": 4,
 "nbformat_minor": 2
}
